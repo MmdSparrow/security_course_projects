{
 "cells": [
  {
   "cell_type": "markdown",
   "metadata": {},
   "source": [
    "# SSl/TSL project"
   ]
  },
  {
   "cell_type": "markdown",
   "metadata": {},
   "source": [
    "## install libraries"
   ]
  },
  {
   "cell_type": "code",
   "execution_count": null,
   "metadata": {},
   "outputs": [],
   "source": []
  },
  {
   "cell_type": "markdown",
   "metadata": {},
   "source": [
    "## generate certificate"
   ]
  },
  {
   "cell_type": "code",
   "execution_count": null,
   "metadata": {},
   "outputs": [],
   "source": [
    "import os\n",
    "\n",
    "# generate key file\n",
    "generate_key_command = \"openssl genpkey -algorithm RSA -out server_key.pem -aes256\"\n",
    "# generate certificate request\n",
    "generate_certificate_signing_request_command = \"openssl req -new -key server_key.pem -out server_csr.pem\"\n",
    "# geenrate seld-signed certificate\n",
    "generate_self_signed_certificate_command = \"openssl x509 -req -days 365 -in server_csr.pem -signkey server_key.pem -out server_cert.pem\"\n",
    "\n",
    "\n",
    "# os.system(generate_key_command)\n",
    "# os.system(generate_certificate_signing_request_command)\n",
    "# os.system(generate_self_signed_certificate_command)"
   ]
  },
  {
   "cell_type": "markdown",
   "metadata": {},
   "source": [
    "## check the certificates"
   ]
  },
  {
   "cell_type": "code",
   "execution_count": 5,
   "metadata": {},
   "outputs": [
    {
     "name": "stdout",
     "output_type": "stream",
     "text": [
      "Subject: <Name(C=IR,ST=Tehran,L=Tehran,O=Amirkabir,OU=CE,CN=Sayed,1.2.840.113549.1.9.1=esmirk.137@gmail.com)>\n",
      "Signature Algorithm: <ObjectIdentifier(oid=1.2.840.113549.1.1.11, name=sha256WithRSAEncryption)>\n",
      "Public Key: <cryptography.hazmat.bindings._rust.openssl.rsa.RSAPublicKey object at 0x74d3ac06f330>\n",
      "countryName: IR\n",
      "stateOrProvinceName: Tehran\n",
      "localityName: Tehran\n",
      "organizationName: Amirkabir\n",
      "organizationalUnitName: CE\n",
      "commonName: Sayed\n",
      "emailAddress: esmirk.137@gmail.com\n"
     ]
    }
   ],
   "source": [
    "from cryptography import x509\n",
    "from cryptography.hazmat.backends import default_backend\n",
    "\n",
    "def read_csr(file_path):\n",
    "    with open(file_path, \"rb\") as f:\n",
    "        csr_data = f.read()\n",
    "    csr = x509.load_pem_x509_csr(csr_data, default_backend())\n",
    "    \n",
    "    # Display the subject of the CSR\n",
    "    print(\"Subject:\", csr.subject)\n",
    "\n",
    "    # Show the issuer's information if it's present (usually in certificates)\n",
    "    # Note: CSR typically does not contain issuer information\n",
    "    # Display other attributes\n",
    "    print(\"Signature Algorithm:\", csr.signature_algorithm_oid)\n",
    "    print(\"Public Key:\", csr.public_key())\n",
    "    \n",
    "    # Display each attribute in the CSR\n",
    "    for attribute in csr.subject:\n",
    "        print(f\"{attribute.oid._name}: {attribute.value}\")\n",
    "\n",
    "# Run the function\n",
    "read_csr(\"../../server_csr.pem\")"
   ]
  },
  {
   "cell_type": "markdown",
   "metadata": {},
   "source": [
    "## implement analyzer"
   ]
  },
  {
   "cell_type": "code",
   "execution_count": 5,
   "metadata": {},
   "outputs": [
    {
     "ename": "TSharkNotFoundException",
     "evalue": "TShark not found. Try adding its location to the configuration file. Searched these paths: ['C:\\\\Program Files\\\\Wireshark\\\\tshark.exe', '/media/mmdsparrow/ubuntu-volume/python_projects/security_projects/security-env/bin/tshark', '/home/mmdsparrow/.local/bin/tshark', '/usr/local/sbin/tshark', '/usr/local/bin/tshark', '/usr/sbin/tshark', '/usr/bin/tshark', '/sbin/tshark', '/bin/tshark', '/usr/games/tshark', '/usr/local/games/tshark', '/snap/bin/tshark', '/snap/bin/tshark']",
     "output_type": "error",
     "traceback": [
      "\u001b[0;31m---------------------------------------------------------------------------\u001b[0m",
      "\u001b[0;31mTSharkNotFoundException\u001b[0m                   Traceback (most recent call last)",
      "Cell \u001b[0;32mIn[5], line 96\u001b[0m\n\u001b[1;32m     93\u001b[0m             \u001b[38;5;28mprint\u001b[39m(\u001b[38;5;124mf\u001b[39m\u001b[38;5;124m\"\u001b[39m\u001b[38;5;124mCipher: \u001b[39m\u001b[38;5;132;01m{\u001b[39;00mpacket\u001b[38;5;241m.\u001b[39mtls\u001b[38;5;241m.\u001b[39mrecord_cipher_suites\u001b[38;5;132;01m}\u001b[39;00m\u001b[38;5;124m\"\u001b[39m)\n\u001b[1;32m     94\u001b[0m             \u001b[38;5;28mprint\u001b[39m(\u001b[38;5;124mf\u001b[39m\u001b[38;5;124m\"\u001b[39m\u001b[38;5;124mLength: \u001b[39m\u001b[38;5;132;01m{\u001b[39;00mpacket\u001b[38;5;241m.\u001b[39mtls\u001b[38;5;241m.\u001b[39mrecord_length\u001b[38;5;132;01m}\u001b[39;00m\u001b[38;5;124m\"\u001b[39m)\n\u001b[0;32m---> 96\u001b[0m \u001b[43mcapture_tls_packets\u001b[49m\u001b[43m(\u001b[49m\u001b[43m)\u001b[49m\n",
      "Cell \u001b[0;32mIn[5], line 86\u001b[0m, in \u001b[0;36mcapture_tls_packets\u001b[0;34m()\u001b[0m\n\u001b[1;32m     84\u001b[0m \u001b[38;5;28;01mdef\u001b[39;00m \u001b[38;5;21mcapture_tls_packets\u001b[39m():\n\u001b[1;32m     85\u001b[0m     \u001b[38;5;66;03m# Capture only packets on port 8443 for SSL/TLS\u001b[39;00m\n\u001b[0;32m---> 86\u001b[0m     capture \u001b[38;5;241m=\u001b[39m \u001b[43mpyshark\u001b[49m\u001b[38;5;241;43m.\u001b[39;49m\u001b[43mLiveCapture\u001b[49m\u001b[43m(\u001b[49m\u001b[43minterface\u001b[49m\u001b[38;5;241;43m=\u001b[39;49m\u001b[38;5;124;43m'\u001b[39;49m\u001b[38;5;124;43mlo\u001b[39;49m\u001b[38;5;124;43m'\u001b[39;49m\u001b[43m,\u001b[49m\u001b[43m \u001b[49m\u001b[43mbpf_filter\u001b[49m\u001b[38;5;241;43m=\u001b[39;49m\u001b[38;5;124;43m'\u001b[39;49m\u001b[38;5;124;43mtcp port 8443\u001b[39;49m\u001b[38;5;124;43m'\u001b[39;49m\u001b[43m)\u001b[49m\n\u001b[1;32m     87\u001b[0m     \u001b[38;5;28mprint\u001b[39m(\u001b[38;5;124m\"\u001b[39m\u001b[38;5;124mCapturing packets...\u001b[39m\u001b[38;5;124m\"\u001b[39m)\n\u001b[1;32m     89\u001b[0m     \u001b[38;5;28;01mfor\u001b[39;00m packet \u001b[38;5;129;01min\u001b[39;00m capture\u001b[38;5;241m.\u001b[39msniff_continuously(packet_count\u001b[38;5;241m=\u001b[39m\u001b[38;5;241m10\u001b[39m):\n",
      "File \u001b[0;32m/media/mmdsparrow/ubuntu-volume/python_projects/security_projects/security-env/lib/python3.10/site-packages/pyshark/capture/live_capture.py:58\u001b[0m, in \u001b[0;36mLiveCapture.__init__\u001b[0;34m(self, interface, bpf_filter, display_filter, only_summaries, decryption_key, encryption_type, output_file, decode_as, disable_protocol, tshark_path, override_prefs, capture_filter, monitor_mode, use_json, use_ek, include_raw, eventloop, custom_parameters, debug)\u001b[0m\n\u001b[1;32m     55\u001b[0m \u001b[38;5;28mself\u001b[39m\u001b[38;5;241m.\u001b[39mbpf_filter \u001b[38;5;241m=\u001b[39m bpf_filter\n\u001b[1;32m     56\u001b[0m \u001b[38;5;28mself\u001b[39m\u001b[38;5;241m.\u001b[39mmonitor_mode \u001b[38;5;241m=\u001b[39m monitor_mode\n\u001b[0;32m---> 58\u001b[0m all_interfaces \u001b[38;5;241m=\u001b[39m \u001b[43mget_tshark_interfaces\u001b[49m\u001b[43m(\u001b[49m\u001b[43mtshark_path\u001b[49m\u001b[43m)\u001b[49m\n\u001b[1;32m     59\u001b[0m \u001b[38;5;28;01mif\u001b[39;00m interface \u001b[38;5;129;01mis\u001b[39;00m \u001b[38;5;28;01mNone\u001b[39;00m:\n\u001b[1;32m     60\u001b[0m     \u001b[38;5;28mself\u001b[39m\u001b[38;5;241m.\u001b[39minterfaces \u001b[38;5;241m=\u001b[39m all_interfaces\n",
      "File \u001b[0;32m/media/mmdsparrow/ubuntu-volume/python_projects/security_projects/security-env/lib/python3.10/site-packages/pyshark/tshark/tshark.py:112\u001b[0m, in \u001b[0;36mget_tshark_interfaces\u001b[0;34m(tshark_path)\u001b[0m\n\u001b[1;32m    107\u001b[0m \u001b[38;5;28;01mdef\u001b[39;00m \u001b[38;5;21mget_tshark_interfaces\u001b[39m(tshark_path\u001b[38;5;241m=\u001b[39m\u001b[38;5;28;01mNone\u001b[39;00m):\n\u001b[1;32m    108\u001b[0m \u001b[38;5;250m    \u001b[39m\u001b[38;5;124;03m\"\"\"Returns a list of interface numbers from the output tshark -D.\u001b[39;00m\n\u001b[1;32m    109\u001b[0m \n\u001b[1;32m    110\u001b[0m \u001b[38;5;124;03m    Used internally to capture on multiple interfaces.\u001b[39;00m\n\u001b[1;32m    111\u001b[0m \u001b[38;5;124;03m    \"\"\"\u001b[39;00m\n\u001b[0;32m--> 112\u001b[0m     parameters \u001b[38;5;241m=\u001b[39m [\u001b[43mget_process_path\u001b[49m\u001b[43m(\u001b[49m\u001b[43mtshark_path\u001b[49m\u001b[43m)\u001b[49m, \u001b[38;5;124m\"\u001b[39m\u001b[38;5;124m-D\u001b[39m\u001b[38;5;124m\"\u001b[39m]\n\u001b[1;32m    113\u001b[0m     \u001b[38;5;28;01mwith\u001b[39;00m \u001b[38;5;28mopen\u001b[39m(os\u001b[38;5;241m.\u001b[39mdevnull, \u001b[38;5;124m\"\u001b[39m\u001b[38;5;124mw\u001b[39m\u001b[38;5;124m\"\u001b[39m) \u001b[38;5;28;01mas\u001b[39;00m null:\n\u001b[1;32m    114\u001b[0m         tshark_interfaces \u001b[38;5;241m=\u001b[39m subprocess\u001b[38;5;241m.\u001b[39mcheck_output(parameters, stderr\u001b[38;5;241m=\u001b[39mnull)\u001b[38;5;241m.\u001b[39mdecode(\u001b[38;5;124m\"\u001b[39m\u001b[38;5;124mutf-8\u001b[39m\u001b[38;5;124m\"\u001b[39m)\n",
      "File \u001b[0;32m/media/mmdsparrow/ubuntu-volume/python_projects/security_projects/security-env/lib/python3.10/site-packages/pyshark/tshark/tshark.py:70\u001b[0m, in \u001b[0;36mget_process_path\u001b[0;34m(tshark_path, process_name)\u001b[0m\n\u001b[1;32m     68\u001b[0m             path \u001b[38;5;241m=\u001b[39m path\u001b[38;5;241m.\u001b[39mreplace(\u001b[38;5;124m\"\u001b[39m\u001b[38;5;130;01m\\\\\u001b[39;00m\u001b[38;5;124m\"\u001b[39m, \u001b[38;5;124m\"\u001b[39m\u001b[38;5;124m/\u001b[39m\u001b[38;5;124m\"\u001b[39m)\n\u001b[1;32m     69\u001b[0m         \u001b[38;5;28;01mreturn\u001b[39;00m path\n\u001b[0;32m---> 70\u001b[0m \u001b[38;5;28;01mraise\u001b[39;00m TSharkNotFoundException(\n\u001b[1;32m     71\u001b[0m     \u001b[38;5;124m\"\u001b[39m\u001b[38;5;124mTShark not found. Try adding its location to the configuration file. \u001b[39m\u001b[38;5;124m\"\u001b[39m\n\u001b[1;32m     72\u001b[0m     \u001b[38;5;124mf\u001b[39m\u001b[38;5;124m\"\u001b[39m\u001b[38;5;124mSearched these paths: \u001b[39m\u001b[38;5;132;01m{\u001b[39;00mpossible_paths\u001b[38;5;132;01m}\u001b[39;00m\u001b[38;5;124m\"\u001b[39m\n\u001b[1;32m     73\u001b[0m )\n",
      "\u001b[0;31mTSharkNotFoundException\u001b[0m: TShark not found. Try adding its location to the configuration file. Searched these paths: ['C:\\\\Program Files\\\\Wireshark\\\\tshark.exe', '/media/mmdsparrow/ubuntu-volume/python_projects/security_projects/security-env/bin/tshark', '/home/mmdsparrow/.local/bin/tshark', '/usr/local/sbin/tshark', '/usr/local/bin/tshark', '/usr/sbin/tshark', '/usr/bin/tshark', '/sbin/tshark', '/bin/tshark', '/usr/games/tshark', '/usr/local/games/tshark', '/snap/bin/tshark', '/snap/bin/tshark']"
     ]
    }
   ],
   "source": [
    "# from scapy.all import sniff, TCP, IP\n",
    "# import pyshark\n",
    "\n",
    "# def analyze_packet(packet):\n",
    "#     \"\"\"\n",
    "#     Analyzes SSL/TLS packets to identify handshake steps and other information.\n",
    "#     \"\"\"\n",
    "#     try:\n",
    "#         # Filter out SSL/TLS packets based on port (usually 443)\n",
    "#         if packet.haslayer(TCP) and packet[TCP].dport == 443 or packet[TCP].sport == 443:\n",
    "#             # Print basic packet information\n",
    "#             print(f\"Source IP: {packet[IP].src}\")\n",
    "#             print(f\"Destination IP: {packet[IP].dst}\")\n",
    "#             print(f\"Source Port: {packet[TCP].sport}\")\n",
    "#             print(f\"Destination Port: {packet[TCP].dport}\")\n",
    "\n",
    "#             # Check if it's a handshake step based on the packet load\n",
    "#             if packet.haslayer(\"Raw\"):\n",
    "#                 load = packet[\"Raw\"].load\n",
    "#                 if b\"ClientHello\" in load:\n",
    "#                     print(\"Detected ClientHello\")\n",
    "#                 elif b\"ServerHello\" in load:\n",
    "#                     print(\"Detected ServerHello\")\n",
    "#                 elif b\"Certificate\" in load:\n",
    "#                     print(\"Detected Certificate Transmission\")\n",
    "#                 elif b\"Finished\" in load:\n",
    "#                     print(\"Detected Finished Message\")\n",
    "#                 else:\n",
    "#                     print(\"Detected Other TLS Packet\")\n",
    "\n",
    "#             print(\"-\" * 50)\n",
    "\n",
    "#     except Exception as e:\n",
    "#         print(f\"Error analyzing packet: {e}\")\n",
    "\n",
    "# def capture_packets():\n",
    "#     \"\"\"\n",
    "#     Captures packets on a network interface, filtering for SSL/TLS (port 443).\n",
    "#     \"\"\"\n",
    "#     print(\"Starting packet capture...\")\n",
    "#     sniff(filter=\"tcp port 443\", prn=analyze_packet, store=0)\n",
    "\n",
    "# def capture_with_pyshark():\n",
    "#     \"\"\"\n",
    "#     Uses Pyshark to capture and analyze packets with TLS layers.\n",
    "#     \"\"\"\n",
    "#     print(\"Starting capture with Pyshark...\")\n",
    "#     capture = pyshark.LiveCapture(interface='eth0', display_filter='tls')\n",
    "\n",
    "#     for packet in capture.sniff_continuously():\n",
    "#         try:\n",
    "#             # Only analyze packets with TLS layers\n",
    "#             if 'tls' in packet:\n",
    "#                 print(\"TLS Packet Detected:\")\n",
    "#                 print(f\"Packet Number: {packet.number}\")\n",
    "#                 print(f\"Source IP: {packet.ip.src}\")\n",
    "#                 print(f\"Destination IP: {packet.ip.dst}\")\n",
    "#                 print(f\"TLS Layer Info: {packet.tls}\")\n",
    "#                 print(\"-\" * 50)\n",
    "#         except AttributeError:\n",
    "#             continue\n",
    "\n",
    "# if __name__ == \"__main__\":\n",
    "#     # Uncomment one of these functions based on your choice of packet analysis tool\n",
    "#     # capture_packets() # Use scapy for packet capture\n",
    "#     # OR\n",
    "#     capture_with_pyshark() # Use pyshark for advanced filtering\n",
    "\n",
    "\n",
    "# from scapy.all import sniff, TLS\n",
    "\n",
    "# def analyze_tls_packets(packet):\n",
    "#     if packet.haslayer(TLS):\n",
    "#         tls_layer = packet[TLS]\n",
    "#         print(\"TLS Packet Summary:\")\n",
    "#         print(f\"Version: {tls_layer.version}\")\n",
    "#         print(f\"Cipher Suite: {tls_layer.cipher_suite}\")\n",
    "\n",
    "# sniff(filter=\"tcp port 8443\", prn=analyze_tls_packets, count=10)\n",
    "\n",
    "\n",
    "import pyshark\n",
    "\n",
    "def capture_tls_packets():\n",
    "    # Capture only packets on port 8443 for SSL/TLS\n",
    "    capture = pyshark.LiveCapture(interface='lo', bpf_filter='tcp port 8443')\n",
    "    print(\"Capturing packets...\")\n",
    "\n",
    "    for packet in capture.sniff_continuously(packet_count=10):\n",
    "        if 'TLS' in packet:\n",
    "            print(\"TLS Packet:\")\n",
    "            print(f\"Version: {packet.tls.record_version}\")\n",
    "            print(f\"Cipher: {packet.tls.record_cipher_suites}\")\n",
    "            print(f\"Length: {packet.tls.record_length}\")\n",
    "\n",
    "capture_tls_packets()"
   ]
  },
  {
   "cell_type": "markdown",
   "metadata": {},
   "source": [
    "## Run Server"
   ]
  },
  {
   "cell_type": "code",
   "execution_count": null,
   "metadata": {},
   "outputs": [],
   "source": []
  },
  {
   "cell_type": "markdown",
   "metadata": {},
   "source": [
    "## Run Client"
   ]
  },
  {
   "cell_type": "code",
   "execution_count": null,
   "metadata": {},
   "outputs": [],
   "source": []
  },
  {
   "cell_type": "markdown",
   "metadata": {},
   "source": [
    "## Run Analyzer"
   ]
  },
  {
   "cell_type": "code",
   "execution_count": null,
   "metadata": {},
   "outputs": [],
   "source": []
  }
 ],
 "metadata": {
  "kernelspec": {
   "display_name": "security-env",
   "language": "python",
   "name": "python3"
  },
  "language_info": {
   "codemirror_mode": {
    "name": "ipython",
    "version": 3
   },
   "file_extension": ".py",
   "mimetype": "text/x-python",
   "name": "python",
   "nbconvert_exporter": "python",
   "pygments_lexer": "ipython3",
   "version": "3.10.12"
  }
 },
 "nbformat": 4,
 "nbformat_minor": 2
}
