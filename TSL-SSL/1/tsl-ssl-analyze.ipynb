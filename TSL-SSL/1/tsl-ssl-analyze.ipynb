{
 "cells": [
  {
   "cell_type": "markdown",
   "metadata": {},
   "source": [
    "# SSl/TSL project"
   ]
  },
  {
   "cell_type": "markdown",
   "metadata": {},
   "source": [
    "## install libraries"
   ]
  },
  {
   "cell_type": "code",
   "execution_count": null,
   "metadata": {},
   "outputs": [],
   "source": []
  },
  {
   "cell_type": "markdown",
   "metadata": {},
   "source": [
    "## generate certificate"
   ]
  },
  {
   "cell_type": "code",
   "execution_count": 1,
   "metadata": {},
   "outputs": [],
   "source": [
    "import os\n",
    "\n",
    "# generate key file\n",
    "generate_key_command = \"openssl genpkey -algorithm RSA -out server_key.pem -aes256\"\n",
    "# generate certificate request\n",
    "generate_certificate_signing_request_command = \"openssl req -new -key server_key.pem -out server_csr.pem\"\n",
    "# geenrate seld-signed certificate\n",
    "generate_self_signed_certificate_command = \"openssl x509 -req -days 365 -in server_csr.pem -signkey server_key.pem -out server_cert.pem\"\n",
    "\n",
    "\n",
    "# os.system(generate_key_command)\n",
    "# os.system(generate_certificate_signing_request_command)\n",
    "# os.system(generate_self_signed_certificate_command)"
   ]
  },
  {
   "cell_type": "markdown",
   "metadata": {},
   "source": [
    "## check the certificates"
   ]
  },
  {
   "cell_type": "code",
   "execution_count": 2,
   "metadata": {},
   "outputs": [
    {
     "name": "stdout",
     "output_type": "stream",
     "text": [
      "Subject: <Name(C=IR,ST=Tehran,L=Tehran,O=Amirkabir,OU=CE,CN=Sayed,1.2.840.113549.1.9.1=esmirk.137@gmail.com)>\n",
      "Signature Algorithm: <ObjectIdentifier(oid=1.2.840.113549.1.1.11, name=sha256WithRSAEncryption)>\n",
      "Public Key: <cryptography.hazmat.bindings._rust.openssl.rsa.RSAPublicKey object at 0x72db4678aa90>\n",
      "countryName: IR\n",
      "stateOrProvinceName: Tehran\n",
      "localityName: Tehran\n",
      "organizationName: Amirkabir\n",
      "organizationalUnitName: CE\n",
      "commonName: Sayed\n",
      "emailAddress: esmirk.137@gmail.com\n"
     ]
    }
   ],
   "source": [
    "from cryptography import x509\n",
    "from cryptography.hazmat.backends import default_backend\n",
    "\n",
    "def read_csr(file_path):\n",
    "    with open(file_path, \"rb\") as f:\n",
    "        csr_data = f.read()\n",
    "    csr = x509.load_pem_x509_csr(csr_data, default_backend())\n",
    "    \n",
    "    print(\"Subject:\", csr.subject)\n",
    "\n",
    "    print(\"Signature Algorithm:\", csr.signature_algorithm_oid)\n",
    "    print(\"Public Key:\", csr.public_key())\n",
    "    \n",
    "    for attribute in csr.subject:\n",
    "        print(f\"{attribute.oid._name}: {attribute.value}\")\n",
    "\n",
    "read_csr(\"../../server_csr.pem\")"
   ]
  },
  {
   "cell_type": "markdown",
   "metadata": {},
   "source": [
    "## implement analyzer"
   ]
  },
  {
   "cell_type": "code",
   "execution_count": 3,
   "metadata": {},
   "outputs": [],
   "source": [
    "import pyshark\n",
    "import threading\n",
    "\n",
    "def capture_tls_packets():\n",
    "    capture = pyshark.LiveCapture(interface='lo', bpf_filter='tcp port 8443')\n",
    "    print(\"Capturing packets...\")\n",
    "\n",
    "    for packet in capture.sniff_continuously(packet_count=10):\n",
    "        if 'TLS' in packet:\n",
    "            print(\"TLS Packet:\")\n",
    "            print(f\"Version: {packet.tls.record_version}\")\n",
    "            print(f\"Cipher: {packet.tls.record_cipher_suites}\")\n",
    "            print(f\"Length: {packet.tls.record_length}\")"
   ]
  },
  {
   "cell_type": "markdown",
   "metadata": {},
   "source": [
    "## Run Server"
   ]
  },
  {
   "cell_type": "code",
   "execution_count": 4,
   "metadata": {},
   "outputs": [],
   "source": [
    "from ssl_server import start_ssl_server"
   ]
  },
  {
   "cell_type": "markdown",
   "metadata": {},
   "source": [
    "## Run Client"
   ]
  },
  {
   "cell_type": "code",
   "execution_count": null,
   "metadata": {},
   "outputs": [],
   "source": []
  },
  {
   "cell_type": "markdown",
   "metadata": {},
   "source": [
    "## Run Analyzer"
   ]
  },
  {
   "cell_type": "code",
   "execution_count": null,
   "metadata": {},
   "outputs": [],
   "source": [
    "# Run the capture function in a separate thread\n",
    "capture_thread = threading.Thread(target=capture_tls_packets)\n",
    "capture_thread.start()\n",
    "capture_thread.join()"
   ]
  }
 ],
 "metadata": {
  "kernelspec": {
   "display_name": "security-env",
   "language": "python",
   "name": "python3"
  },
  "language_info": {
   "codemirror_mode": {
    "name": "ipython",
    "version": 3
   },
   "file_extension": ".py",
   "mimetype": "text/x-python",
   "name": "python",
   "nbconvert_exporter": "python",
   "pygments_lexer": "ipython3",
   "version": "3.10.12"
  }
 },
 "nbformat": 4,
 "nbformat_minor": 2
}
