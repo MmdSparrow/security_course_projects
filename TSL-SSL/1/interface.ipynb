{
 "cells": [
  {
   "cell_type": "markdown",
   "metadata": {},
   "source": [
    "# SSl/TSL project"
   ]
  },
  {
   "cell_type": "markdown",
   "metadata": {},
   "source": [
    "## install libraries"
   ]
  },
  {
   "cell_type": "code",
   "execution_count": null,
   "metadata": {},
   "outputs": [],
   "source": []
  },
  {
   "cell_type": "markdown",
   "metadata": {},
   "source": [
    "## generate certificate"
   ]
  },
  {
   "cell_type": "code",
   "execution_count": 12,
   "metadata": {},
   "outputs": [],
   "source": [
    "import os\n",
    "\n",
    "# generate key file\n",
    "generate_key_command = \"openssl genpkey -algorithm RSA -out server_key.pem -aes256\"\n",
    "# generate certificate request\n",
    "generate_certificate_signing_request_command = \"openssl req -new -key server_key.pem -out server_csr.pem\"\n",
    "# geenrate seld-signed certificate\n",
    "generate_self_signed_certificate_command = \"openssl x509 -req -days 365 -in server_csr.pem -signkey server_key.pem -out server_cert.pem\"\n",
    "\n",
    "\n",
    "# os.system(generate_key_command)\n",
    "# os.system(generate_certificate_signing_request_command)\n",
    "# os.system(generate_self_signed_certificate_command)"
   ]
  },
  {
   "cell_type": "markdown",
   "metadata": {},
   "source": [
    "## check the certificates"
   ]
  },
  {
   "cell_type": "code",
   "execution_count": 13,
   "metadata": {},
   "outputs": [
    {
     "name": "stdout",
     "output_type": "stream",
     "text": [
      "Subject: <Name(C=IR,ST=Tehran,L=Tehran,O=Amirkabir,OU=CE,CN=Sayed,1.2.840.113549.1.9.1=esmirk.137@gmail.com)>\n",
      "Signature Algorithm: <ObjectIdentifier(oid=1.2.840.113549.1.1.11, name=sha256WithRSAEncryption)>\n",
      "Public Key: <cryptography.hazmat.bindings._rust.openssl.rsa.RSAPublicKey object at 0x72db44042270>\n",
      "countryName: IR\n",
      "stateOrProvinceName: Tehran\n",
      "localityName: Tehran\n",
      "organizationName: Amirkabir\n",
      "organizationalUnitName: CE\n",
      "commonName: Sayed\n",
      "emailAddress: esmirk.137@gmail.com\n"
     ]
    }
   ],
   "source": [
    "from cryptography import x509\n",
    "from cryptography.hazmat.backends import default_backend\n",
    "\n",
    "def read_csr(file_path):\n",
    "    with open(file_path, \"rb\") as f:\n",
    "        csr_data = f.read()\n",
    "    csr = x509.load_pem_x509_csr(csr_data, default_backend())\n",
    "    \n",
    "    print(\"Subject:\", csr.subject)\n",
    "\n",
    "    print(\"Signature Algorithm:\", csr.signature_algorithm_oid)\n",
    "    print(\"Public Key:\", csr.public_key())\n",
    "    \n",
    "    for attribute in csr.subject:\n",
    "        print(f\"{attribute.oid._name}: {attribute.value}\")\n",
    "\n",
    "read_csr(\"../../server_csr.pem\")"
   ]
  },
  {
   "cell_type": "markdown",
   "metadata": {},
   "source": [
    "## implement analyzer"
   ]
  },
  {
   "cell_type": "code",
   "execution_count": 14,
   "metadata": {},
   "outputs": [],
   "source": [
    "import pyshark\n",
    "import threading\n",
    "\n",
    "def capture_tls_packets():\n",
    "    capture = pyshark.LiveCapture(interface='lo', bpf_filter='tcp port 8443')\n",
    "    print(\"Capturing packets...\")\n",
    "\n",
    "    for packet in capture.sniff_continuously(packet_count=10):\n",
    "        if 'TLS' in packet:\n",
    "            print(\"TLS Packet:\")\n",
    "            print(f\"Version: {packet.tls.record_version}\")\n",
    "            print(f\"Cipher: {packet.tls.record_cipher_suites}\")\n",
    "            print(f\"Length: {packet.tls.record_length}\")"
   ]
  },
  {
   "cell_type": "markdown",
   "metadata": {},
   "source": [
    "## Run Server"
   ]
  },
  {
   "cell_type": "code",
   "execution_count": null,
   "metadata": {},
   "outputs": [],
   "source": []
  },
  {
   "cell_type": "markdown",
   "metadata": {},
   "source": [
    "## Run Client"
   ]
  },
  {
   "cell_type": "code",
   "execution_count": null,
   "metadata": {},
   "outputs": [],
   "source": []
  },
  {
   "cell_type": "markdown",
   "metadata": {},
   "source": [
    "## Run Analyzer"
   ]
  },
  {
   "cell_type": "code",
   "execution_count": null,
   "metadata": {},
   "outputs": [
    {
     "name": "stdout",
     "output_type": "stream",
     "text": [
      "Capturing packets...\n"
     ]
    },
    {
     "ename": "KeyboardInterrupt",
     "evalue": "",
     "output_type": "error",
     "traceback": [
      "\u001b[0;31m---------------------------------------------------------------------------\u001b[0m",
      "\u001b[0;31mKeyboardInterrupt\u001b[0m                         Traceback (most recent call last)",
      "Cell \u001b[0;32mIn[15], line 4\u001b[0m\n\u001b[1;32m      2\u001b[0m capture_thread \u001b[38;5;241m=\u001b[39m threading\u001b[38;5;241m.\u001b[39mThread(target\u001b[38;5;241m=\u001b[39mcapture_tls_packets)\n\u001b[1;32m      3\u001b[0m capture_thread\u001b[38;5;241m.\u001b[39mstart()\n\u001b[0;32m----> 4\u001b[0m \u001b[43mcapture_thread\u001b[49m\u001b[38;5;241;43m.\u001b[39;49m\u001b[43mjoin\u001b[49m\u001b[43m(\u001b[49m\u001b[43m)\u001b[49m\n",
      "File \u001b[0;32m/usr/lib/python3.10/threading.py:1096\u001b[0m, in \u001b[0;36mThread.join\u001b[0;34m(self, timeout)\u001b[0m\n\u001b[1;32m   1093\u001b[0m     \u001b[38;5;28;01mraise\u001b[39;00m \u001b[38;5;167;01mRuntimeError\u001b[39;00m(\u001b[38;5;124m\"\u001b[39m\u001b[38;5;124mcannot join current thread\u001b[39m\u001b[38;5;124m\"\u001b[39m)\n\u001b[1;32m   1095\u001b[0m \u001b[38;5;28;01mif\u001b[39;00m timeout \u001b[38;5;129;01mis\u001b[39;00m \u001b[38;5;28;01mNone\u001b[39;00m:\n\u001b[0;32m-> 1096\u001b[0m     \u001b[38;5;28;43mself\u001b[39;49m\u001b[38;5;241;43m.\u001b[39;49m\u001b[43m_wait_for_tstate_lock\u001b[49m\u001b[43m(\u001b[49m\u001b[43m)\u001b[49m\n\u001b[1;32m   1097\u001b[0m \u001b[38;5;28;01melse\u001b[39;00m:\n\u001b[1;32m   1098\u001b[0m     \u001b[38;5;66;03m# the behavior of a negative timeout isn't documented, but\u001b[39;00m\n\u001b[1;32m   1099\u001b[0m     \u001b[38;5;66;03m# historically .join(timeout=x) for x<0 has acted as if timeout=0\u001b[39;00m\n\u001b[1;32m   1100\u001b[0m     \u001b[38;5;28mself\u001b[39m\u001b[38;5;241m.\u001b[39m_wait_for_tstate_lock(timeout\u001b[38;5;241m=\u001b[39m\u001b[38;5;28mmax\u001b[39m(timeout, \u001b[38;5;241m0\u001b[39m))\n",
      "File \u001b[0;32m/usr/lib/python3.10/threading.py:1116\u001b[0m, in \u001b[0;36mThread._wait_for_tstate_lock\u001b[0;34m(self, block, timeout)\u001b[0m\n\u001b[1;32m   1113\u001b[0m     \u001b[38;5;28;01mreturn\u001b[39;00m\n\u001b[1;32m   1115\u001b[0m \u001b[38;5;28;01mtry\u001b[39;00m:\n\u001b[0;32m-> 1116\u001b[0m     \u001b[38;5;28;01mif\u001b[39;00m \u001b[43mlock\u001b[49m\u001b[38;5;241;43m.\u001b[39;49m\u001b[43macquire\u001b[49m\u001b[43m(\u001b[49m\u001b[43mblock\u001b[49m\u001b[43m,\u001b[49m\u001b[43m \u001b[49m\u001b[43mtimeout\u001b[49m\u001b[43m)\u001b[49m:\n\u001b[1;32m   1117\u001b[0m         lock\u001b[38;5;241m.\u001b[39mrelease()\n\u001b[1;32m   1118\u001b[0m         \u001b[38;5;28mself\u001b[39m\u001b[38;5;241m.\u001b[39m_stop()\n",
      "\u001b[0;31mKeyboardInterrupt\u001b[0m: "
     ]
    }
   ],
   "source": []
  }
 ],
 "metadata": {
  "kernelspec": {
   "display_name": "security-env",
   "language": "python",
   "name": "python3"
  },
  "language_info": {
   "codemirror_mode": {
    "name": "ipython",
    "version": 3
   },
   "file_extension": ".py",
   "mimetype": "text/x-python",
   "name": "python",
   "nbconvert_exporter": "python",
   "pygments_lexer": "ipython3",
   "version": "3.10.12"
  }
 },
 "nbformat": 4,
 "nbformat_minor": 2
}
