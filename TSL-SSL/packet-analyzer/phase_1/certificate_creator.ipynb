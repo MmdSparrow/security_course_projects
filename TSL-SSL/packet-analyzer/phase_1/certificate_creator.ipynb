{
 "cells": [
  {
   "cell_type": "markdown",
   "metadata": {},
   "source": [
    "# **Security Course**\n",
    "### <span style=\"font-weight:bold;\">Instructor:</span> <span style=\"font-size:19px;\"><a href=\"https://ir.linkedin.com/in/hrshahriari\">Dr. Hamid Reza Shahriari</a></span>\n",
    "### <span style=\"font-weight:bold;\">Organization</span>\n",
    "### <span style=\"font-size:19px;\"><a href=\"https://aut.ac.ir/en\">Amirkabir University of Technology (Tehran Polytechnic)</a></span>\n",
    "<img src=\"../../../assets/AKUT-white-logo.png\" alt=\"Amirkabir University of Technology logo\" style=\"width:300px;\">"
   ]
  },
  {
   "cell_type": "markdown",
   "metadata": {},
   "source": [
    "# **Certificate Creation**\n",
    "In this notebook, we will walk through the steps of getting a self-signed certificate and CA-signed certificate."
   ]
  },
  {
   "cell_type": "markdown",
   "metadata": {},
   "source": [
    "## Self-signed Certificate"
   ]
  },
  {
   "cell_type": "markdown",
   "metadata": {},
   "source": [
    "### Imports"
   ]
  },
  {
   "cell_type": "code",
   "execution_count": 1,
   "metadata": {},
   "outputs": [],
   "source": [
    "import os\n",
    "import subprocess\n",
    "from cryptography import x509\n",
    "from cryptography.hazmat.backends import default_backend\n",
    "\n",
    "# ATTENTION: use openssl shell commands too"
   ]
  },
  {
   "cell_type": "markdown",
   "metadata": {},
   "source": [
    "### Define Commands"
   ]
  },
  {
   "cell_type": "markdown",
   "metadata": {},
   "source": [
    "generate key"
   ]
  },
  {
   "cell_type": "code",
   "execution_count": null,
   "metadata": {},
   "outputs": [
    {
     "name": "stderr",
     "output_type": "stream",
     "text": [
      "..+........+...+.+++++++++++++++++++++++++++++++++++++++++++++++++++++++++++++++++*.+...+.........+............+.....+.............+..+......+....+.....+.+.....+...+....+.....+.+..+.........+...+...+...+.+...+...+...+..+.......+..+...+......+++++++++++++++++++++++++++++++++++++++++++++++++++++++++++++++++*..+....+......+.........+...........+......+...+...+...............+......................+..+...+.+..............+...+...+.+........+...+...+..........+..............+......+......+.+.....+.............+.....+....+...+..+.+.........+..+.........+..........+..+....+.....+.+..............+....+..+...+.........+...+...+.+......+........+.......+..+..................+...................+......+...+.....+.......+...+++++++++++++++++++++++++++++++++++++++++++++++++++++++++++++++++\n",
      ".......+.+......+..+..........+..+.+++++++++++++++++++++++++++++++++++++++++++++++++++++++++++++++++*..+.....+.+..+.......+...+.....+++++++++++++++++++++++++++++++++++++++++++++++++++++++++++++++++*.....+.+......+.....+....+......+.....+...+..........+..+............+.+..+....+...+..+.............+......+..+..........+........+.......+........+.+.....+................+............+..+....+..+.......+..+......+...+.........+.............+..+.......+......+..+...+..........+........+..........+...........+....+......+........+...+...+.........+.+......+...+......+.....+.........+.+......+...+..+...+............+.+........+.........+.+..+.........+...+.+......+...+............+...+..+................+...+.................+..........+...+..+......................+..+.........+.......+...+......+........+......+.......+..+......+....+...........+....+..+....+...........+.+..+.+..............+......+.......+........+.+......+..+............+.+..+......+.+...+...............+..+....+..+.......+..+.+..+...+....+.........+......+..............+....+..+....+.....+.........+...+.......+.....+.......+.....+.+..............+.+.....+.......+..+...+.+..+....+.........+..+...+++++++++++++++++++++++++++++++++++++++++++++++++++++++++++++++++\n",
      "You are about to be asked to enter information that will be incorporated\n",
      "into your certificate request.\n",
      "What you are about to enter is what is called a Distinguished Name or a DN.\n",
      "There are quite a few fields but you can leave some blank\n",
      "For some fields there will be a default value,\n",
      "If you enter '.', the field will be left blank.\n",
      "-----\n",
      "Country Name (2 letter code) [AU]:"
     ]
    }
   ],
   "source": [
    "password = \"password\"\n",
    "\n",
    "# generate key file\n",
    "generate_key_command = f\"openssl genpkey -algorithm RSA -out server_key.pem -aes256 -pass pass:{password}\""
   ]
  },
  {
   "cell_type": "markdown",
   "metadata": {},
   "source": [
    "generate certificate request"
   ]
  },
  {
   "cell_type": "code",
   "execution_count": null,
   "metadata": {},
   "outputs": [],
   "source": [
    "country_code=\"IR\"\n",
    "province_name=\"Tehran\"\n",
    "locality_name=\"Tehran\" # ciry\n",
    "organization_name=\"Amirkabir University - Security Course\"\n",
    "organizational_unit_name=\"computer engineering department\"\n",
    "common_name=\"Sayed\"\n",
    "email_address=\"esmirk.137@gmail.com\"\n",
    "challenge_password= \"password\"\n",
    "company_name=\"Sayed Mohammad Ali Mirkazemi\"\n",
    "\n",
    "# generate certificate request\n",
    "generate_certificate_signing_request_command = f\"openssl req -new -key server_key.pem -out server_csr.pem -passin pass:{password} -subj /C={country_code}/ST={province_name}/L={locality_name}/O={organization_name}/OU={organizational_unit_name}/CN={common_name}/emailAddress={email_address}/challengePassword={challenge_password}/unstructuredName={company_name}\""
   ]
  },
  {
   "cell_type": "markdown",
   "metadata": {},
   "source": [
    "geenrate seld-signed certificate"
   ]
  },
  {
   "cell_type": "code",
   "execution_count": null,
   "metadata": {},
   "outputs": [],
   "source": [
    "# geenrate seld-signed certificate\n",
    "generate_self_signed_certificate_command = \"openssl x509 -req -days 365 -in server_csr.pem -signkey server_key.pem -out server_cert.pem\""
   ]
  },
  {
   "cell_type": "markdown",
   "metadata": {},
   "source": [
    "### Run Commands"
   ]
  },
  {
   "cell_type": "code",
   "execution_count": null,
   "metadata": {},
   "outputs": [],
   "source": [
    "os.system(generate_key_command)\n",
    "os.system(generate_certificate_signing_request_command)\n",
    "os.system(generate_self_signed_certificate_command)"
   ]
  },
  {
   "cell_type": "markdown",
   "metadata": {},
   "source": [
    "### Check the Self-signed Certificate"
   ]
  },
  {
   "cell_type": "code",
   "execution_count": null,
   "metadata": {},
   "outputs": [],
   "source": [
    "def read_csr(file_path):\n",
    "    with open(file_path, \"rb\") as f:\n",
    "        csr_data = f.read()\n",
    "    csr = x509.load_pem_x509_csr(csr_data, default_backend())\n",
    "    \n",
    "    print(\"Subject:\", csr.subject)\n",
    "\n",
    "    print(\"Signature Algorithm:\", csr.signature_algorithm_oid)\n",
    "    print(\"Public Key:\", csr.public_key())\n",
    "    \n",
    "    for attribute in csr.subject:\n",
    "        print(f\"{attribute.oid._name}: {attribute.value}\")\n",
    "\n",
    "read_csr(\"../../server_csr.pem\")"
   ]
  },
  {
   "cell_type": "markdown",
   "metadata": {},
   "source": [
    "## CA-signed Certificate ([Let's Encrypt](https://letsencrypt.org))"
   ]
  },
  {
   "cell_type": "code",
   "execution_count": null,
   "metadata": {},
   "outputs": [],
   "source": [
    "domain = \"sayedmohammadali-mirkazemi.com\"\n",
    "webroot_path = \"/var/www/html\"\n",
    "email_address = \"esmirk.137@gmail.com\"\n",
    "\n",
    "generate_certificate_command = f\"sudo certbot certonly --webroot -w {webroot_path} -d {domain} --agree-tos -m {email_address} --non-interactive --no-eff-email\"\n",
    "\n",
    "try:\n",
    "    result = subprocess.run(generate_certificate_command, shell=True, check=True, capture_output=True, text=True)\n",
    "    print(\"Certificate generated successfully!\")\n",
    "    print(result.stdout)\n",
    "except subprocess.CalledProcessError as e:\n",
    "    print(\"An error occurred while generating the certificate.\")\n",
    "    print(e.stderr)\n"
   ]
  }
 ],
 "metadata": {
  "kernelspec": {
   "display_name": "security-env",
   "language": "python",
   "name": "python3"
  },
  "language_info": {
   "codemirror_mode": {
    "name": "ipython",
    "version": 3
   },
   "file_extension": ".py",
   "mimetype": "text/x-python",
   "name": "python",
   "nbconvert_exporter": "python",
   "pygments_lexer": "ipython3",
   "version": "3.10.12"
  }
 },
 "nbformat": 4,
 "nbformat_minor": 2
}
