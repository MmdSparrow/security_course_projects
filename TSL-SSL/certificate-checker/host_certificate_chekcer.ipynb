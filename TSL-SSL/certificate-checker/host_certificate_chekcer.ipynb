{
 "cells": [
  {
   "cell_type": "markdown",
   "metadata": {},
   "source": [
    "# **Security Course**\n",
    "### <span style=\"font-weight:bold;\">Instructor:</span> <span style=\"font-size:19px;\"><a href=\"https://ir.linkedin.com/in/hrshahriari\">Dr. Hamid Reza Shahriari</a></span>\n",
    "### <span style=\"font-weight:bold;\">Organization</span>\n",
    "### <span style=\"font-size:19px;\"><a href=\"https://aut.ac.ir/en\">Amirkabir University of Technology (Tehran Polytechnic)</a></span>\n",
    "<img src=\"../../assets/AKUT-white-logo.png\" alt=\"Amirkabir University of Technology logo\" style=\"width:300px;\">"
   ]
  },
  {
   "cell_type": "markdown",
   "metadata": {},
   "source": [
    "# **Host Certificate Checker**\n",
    "In this notebook, we will walk through the steps of implementing a code to show details of sertificates of the input domain."
   ]
  },
  {
   "cell_type": "markdown",
   "metadata": {},
   "source": [
    "### Imports"
   ]
  },
  {
   "cell_type": "code",
   "execution_count": 1,
   "metadata": {},
   "outputs": [],
   "source": [
    "import socket\n",
    "import ssl\n",
    "import datetime"
   ]
  },
  {
   "cell_type": "markdown",
   "metadata": {},
   "source": [
    "### Read Details of Certificate"
   ]
  },
  {
   "cell_type": "code",
   "execution_count": 2,
   "metadata": {},
   "outputs": [],
   "source": [
    "def read_details(cert):\n",
    "    version = cert['version']\n",
    "    serial_number = cert['serialNumber']\n",
    "    subject = dict(x[0] for x in cert['subject'])\n",
    "    issued_to = subject.get(\"commonName\", \"N/A\")\n",
    "    issuer = dict(x[0] for x in cert['issuer'])\n",
    "    issued_by = issuer.get(\"commonName\", \"N/A\")\n",
    "    valid_from = datetime.datetime.strptime(cert['notBefore'], \"%b %d %H:%M:%S %Y %Z\")\n",
    "    valid_to = datetime.datetime.strptime(cert['notAfter'], \"%b %d %H:%M:%S %Y %Z\")\n",
    "    days_remaining = (valid_to - datetime.datetime.utcnow()).days\n",
    "\n",
    "    return version, serial_number, issued_to, issued_by, valid_from, valid_to, days_remaining"
   ]
  },
  {
   "cell_type": "markdown",
   "metadata": {},
   "source": [
    "### Show Details of Certificate"
   ]
  },
  {
   "cell_type": "code",
   "execution_count": 3,
   "metadata": {},
   "outputs": [],
   "source": [
    "def show_details(hostname, version, serial_number, issued_to, issued_by, valid_from, valid_to, days_remaining):\n",
    "    print(f\"Certificate for {hostname}\")\n",
    "    print(f\"  Version: {version}\")\n",
    "    print(f\"  Serial Number: {serial_number}\")\n",
    "    print(f\"  Issued To: {issued_to}\")\n",
    "    print(f\"  Issued By: {issued_by}\")\n",
    "    print(f\"  Valid From: {valid_from}\")\n",
    "    print(f\"  Valid To: {valid_to}\")\n",
    "    print(f\"  Days Remaining: {days_remaining}\")\n",
    "    print()\n",
    "    if days_remaining > 0:\n",
    "        print(\"Status: Certificate is valid.\")\n",
    "    else:\n",
    "        print(\"Status: Certificate has expired.\")"
   ]
  },
  {
   "cell_type": "markdown",
   "metadata": {},
   "source": [
    "### Certificate Checker"
   ]
  },
  {
   "cell_type": "code",
   "execution_count": 4,
   "metadata": {},
   "outputs": [],
   "source": [
    "def check_certificate(hostname, port=443):\n",
    "    context = ssl.create_default_context()\n",
    "    conn = context.wrap_socket(\n",
    "        socket.socket(socket.AF_INET),\n",
    "        server_hostname=hostname,\n",
    "    )\n",
    "    try:\n",
    "        conn.connect((hostname, port))\n",
    "        cert = conn.getpeercert()\n",
    "        version, serial_number, issued_to, issued_by, valid_from, valid_to, days_remaining= read_details(cert)\n",
    "        show_details(hostname, version, serial_number, issued_to, issued_by, valid_from, valid_to, days_remaining)\n",
    "    except Exception as e:\n",
    "        print(f\"Failed to retrieve certificate for {hostname}. Error: {e}\")\n",
    "    finally:\n",
    "        conn.close()"
   ]
  },
  {
   "cell_type": "markdown",
   "metadata": {},
   "source": [
    "### Testing Implementated certificated checker"
   ]
  },
  {
   "cell_type": "code",
   "execution_count": 5,
   "metadata": {},
   "outputs": [
    {
     "name": "stdout",
     "output_type": "stream",
     "text": [
      "Certificate for google.com\n",
      "  Version: 3\n",
      "  Serial Number: 41A81582740B7A9009B461E71720C0F4\n",
      "  Issued To: *.google.com\n",
      "  Issued By: WR2\n",
      "  Valid From: 2024-10-21 08:36:57\n",
      "  Valid To: 2025-01-13 08:36:56\n",
      "  Days Remaining: 42\n",
      "\n",
      "Status: Certificate is valid.\n"
     ]
    }
   ],
   "source": [
    "hostname = input(\"Enter the hostname (e.g., example.com): \")\n",
    "input_port = input(\"Enter the port (e.g., 443): \")\n",
    "port = 443 if input_port.strip() == '' else int(input_port)\n",
    "\n",
    "check_certificate(hostname, port)"
   ]
  }
 ],
 "metadata": {
  "kernelspec": {
   "display_name": "security-env",
   "language": "python",
   "name": "python3"
  },
  "language_info": {
   "codemirror_mode": {
    "name": "ipython",
    "version": 3
   },
   "file_extension": ".py",
   "mimetype": "text/x-python",
   "name": "python",
   "nbconvert_exporter": "python",
   "pygments_lexer": "ipython3",
   "version": "3.10.12"
  }
 },
 "nbformat": 4,
 "nbformat_minor": 2
}
