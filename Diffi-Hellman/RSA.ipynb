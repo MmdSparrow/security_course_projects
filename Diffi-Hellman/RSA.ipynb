{
 "cells": [
  {
   "cell_type": "markdown",
   "metadata": {},
   "source": [
    "### To see RSA Algorithm visit [RSA project in github](https://github.com/MmdSparrow/security_course_projects/tree/master/RSA)"
   ]
  },
  {
   "cell_type": "markdown",
   "metadata": {},
   "source": [
    "### utils"
   ]
  },
  {
   "cell_type": "code",
   "execution_count": null,
   "metadata": {},
   "outputs": [],
   "source": [
    "import math\n",
    "import random\n",
    "\n",
    "def is_prime(n):\n",
    "    if n <= 1:\n",
    "        return False\n",
    "    if n <= 3:\n",
    "        return True\n",
    "    if n % 2 == 0 or n % 3 == 0:\n",
    "        return False\n",
    "\n",
    "    for i in range(5, int(math.sqrt(n)) + 1, 6):\n",
    "        if n % i == 0 or n % (i + 2) == 0:\n",
    "            return False\n",
    "\n",
    "    return True\n",
    "\n",
    "def get_prime_number_from_user(prime_number_index):\n",
    "    p= input(\"Enter prime number {prime_number_index}: \")\n",
    "    while(True):\n",
    "        if is_prime(q):\n",
    "            break\n",
    "    print(\"This number is not prime. Please Try again.\")\n",
    "    return p\n",
    "\n",
    "def __gcd(numb1, numb2):\n",
    "    while numb2:\n",
    "        numb1, numb2 = numb2, numb1 % numb2\n",
    "    return numb1\n",
    "\n",
    "def find_relative_prime(numb):\n",
    "    e = random.randrange(1, numb)\n",
    "    while __gcd(e, numb) != 1:\n",
    "        e = random.randrange(1, numb)\n",
    "    return e\n",
    "\n",
    "def modular_inverse_calculator(numb, base):\n",
    "    original_m = base\n",
    "    x0, x1 = 0, 1\n",
    "    if base == 1:\n",
    "        return None\n",
    "    \n",
    "    while numb > 1:\n",
    "        q = numb // base\n",
    "        numb, base = base, numb % base\n",
    "        x0, x1 = x1 - q * x0, x0\n",
    "\n",
    "    if x1 < 0:\n",
    "        x1 += original_m\n",
    "\n",
    "    return x1\n",
    "\n",
    "def __generate_prime_candidate(length):\n",
    "    return random.getrandbits(length) | (1 << (length - 1)) | 1\n",
    "\n",
    "def generate_prime_number(length=8):\n",
    "    p = 4\n",
    "    while not is_prime(p):\n",
    "        p = __generate_prime_candidate(length)\n",
    "    return p"
   ]
  },
  {
   "cell_type": "markdown",
   "metadata": {},
   "source": [
    "### RSA"
   ]
  },
  {
   "cell_type": "code",
   "execution_count": null,
   "metadata": {},
   "outputs": [],
   "source": [
    "def RSA(key_size=8, interactive=False):\n",
    "    p= None\n",
    "    q= None\n",
    "    if interactive:\n",
    "        p=get_prime_number_from_user(1)\n",
    "        q=get_prime_number_from_user(2)\n",
    "        print(f\"Your input prime numbers are: {p}, {q}\")\n",
    "    else:\n",
    "        p=generate_prime_number(key_size // 2)\n",
    "        q=generate_prime_number(key_size // 2)\n",
    "        while p == q:\n",
    "            q = generate_prime_number(key_size // 2)\n",
    "        print(f\"Random primes are: {p}, {q}\")\n",
    "\n",
    "    n=p*q\n",
    "    phi_n=(p-1)*(q-1)\n",
    "    print(f\"n and φ(n) in order are equal to {n}, {phi_n}\")\n",
    "\n",
    "    e=find_relative_prime(phi_n)\n",
    "    d=modular_inverse_calculator(e, phi_n)\n",
    "    print(f\"Private and public keys in order are equl to: (e, n)= {(e, n)}, (d, n)= {(d, n)}\")\n",
    "\n",
    "    return (e, n), (d, n)"
   ]
  }
 ],
 "metadata": {
  "kernelspec": {
   "display_name": "security-env",
   "language": "python",
   "name": "python3"
  },
  "language_info": {
   "name": "python",
   "version": "3.10.12"
  }
 },
 "nbformat": 4,
 "nbformat_minor": 2
}
