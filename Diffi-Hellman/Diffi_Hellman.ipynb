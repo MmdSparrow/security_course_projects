{
 "cells": [
  {
   "cell_type": "markdown",
   "metadata": {},
   "source": [
    "# **Security Course**\n",
    "### <span style=\"font-weight:bold;\">Instructor:</span> <span style=\"font-size:19px;\"><a href=\"https://ir.linkedin.com/in/hrshahriari\">Dr. Hamid Reza Shahriari</a></span>\n",
    "### <span style=\"font-weight:bold;\">Organization</span>\n",
    "### <span style=\"font-size:19px;\"><a href=\"https://aut.ac.ir/en\">Amirkabir University of Technology (Tehran Polytechnic)</a></span>\n",
    "<img src=\"../assets/AKUT-white-logo.png\" alt=\"Amirkabir University of Technology logo\" style=\"width:300px;\">"
   ]
  },
  {
   "cell_type": "markdown",
   "metadata": {},
   "source": [
    "# **Diffi-Hellman Algorithm**\n",
    "In this notebook, we will walk through the steps of implementing the Diffi-Hellman algorithm."
   ]
  },
  {
   "cell_type": "markdown",
   "metadata": {},
   "source": [
    "### Import"
   ]
  },
  {
   "cell_type": "code",
   "execution_count": 74,
   "metadata": {},
   "outputs": [],
   "source": [
    "import socket\n",
    "import random\n",
    "import threading\n",
    "from time import sleep\n",
    "from utils import mod_exp\n",
    "\n",
    "%run ./utils.ipynb"
   ]
  },
  {
   "cell_type": "markdown",
   "metadata": {},
   "source": [
    "### Create Algorithm Paramters"
   ]
  },
  {
   "cell_type": "code",
   "execution_count": 75,
   "metadata": {},
   "outputs": [
    {
     "name": "stdout",
     "output_type": "stream",
     "text": [
      "selected primitve root or α for your prime number is 134.\n"
     ]
    }
   ],
   "source": [
    "q=int(input(\"Enter a prime number: \"))\n",
    "while(True):\n",
    "    if is_prime(q):\n",
    "        break\n",
    "    print(\"Input number is not prime, try again!\")\n",
    "\n",
    "alpha = find_primitive_root(q)\n",
    "print(f\"selected primitve root or \\u03B1 for your prime number is {alpha}.\")"
   ]
  },
  {
   "cell_type": "markdown",
   "metadata": {},
   "source": [
    "### Alice Side"
   ]
  },
  {
   "cell_type": "code",
   "execution_count": 76,
   "metadata": {},
   "outputs": [],
   "source": [
    "def Alice_side():\n",
    "    q = 137\n",
    "    alpha = 134\n",
    "\n",
    "    print(f\"--Alice Side-- Hi Alice! \\u03B1={alpha} and q={q} :).\")\n",
    "    print(\"--Alice Side-- I'm trying to create a random number for you (as your private key)!\")\n",
    "    sleep(2)\n",
    "    X_Alice= random.randint(1, q-1)\n",
    "    print(f\"--Alice Side-- Your private key is {X_Alice}.\")\n",
    "\n",
    "    server = socket.socket(socket.AF_INET, socket.SOCK_STREAM)\n",
    "    server.setsockopt(socket.SOL_SOCKET, socket.SO_REUSEADDR, 1)\n",
    "    server.bind(('localhost', 12345))\n",
    "    server.listen(1)\n",
    "\n",
    "    conn, _ = server.accept()\n",
    "\n",
    "    Y_Alice = mod_exp(alpha, X_Alice, q)\n",
    "    print(\"--Alice Side-- I will send your public server value Y to Bob.\")\n",
    "\n",
    "    conn.send(str(Y_Alice).encode())\n",
    "\n",
    "    Y_Bob = int(conn.recv(1024).decode())\n",
    "    sleep(1)\n",
    "    print(f\"--Alice Side-- I send your Y to Bob and he sends this for you: Y_Bob= {Y_Bob}\")\n",
    "\n",
    "    shared_secret = mod_exp(Y_Bob, X_Alice, q)\n",
    "    print(f\"--Alice Side-- Your shared secret: {shared_secret}\")\n",
    "\n",
    "    server.close()"
   ]
  },
  {
   "cell_type": "markdown",
   "metadata": {},
   "source": [
    "### Bob Side"
   ]
  },
  {
   "cell_type": "code",
   "execution_count": 77,
   "metadata": {},
   "outputs": [],
   "source": [
    "def Bob_side():\n",
    "    q = 137\n",
    "    alpha = 134\n",
    "\n",
    "    print(f\"--Bob Side-- Hi Bob! \\u03B1={alpha} and q={q} :).\")\n",
    "    print(\"--Bob Side-- I'm trying to create a random number for you (as your private key)!\")\n",
    "    sleep(2)\n",
    "    X_Bob= random.randint(1, q-1)\n",
    "    print(f\"--Bob Side-- Your private key is {X_Bob}.\")\n",
    "\n",
    "    client = socket.socket(socket.AF_INET, socket.SOCK_STREAM)\n",
    "    client.setsockopt(socket.SOL_SOCKET, socket.SO_REUSEADDR, 1)\n",
    "    client.connect(('localhost', 12345))\n",
    "\n",
    "    Y_Bob = mod_exp(alpha, X_Bob, q)\n",
    "    print(\"--Bob Side-- I will send your public server value Y to Alice.\")\n",
    "\n",
    "    Y_Alice = int(client.recv(1024).decode())\n",
    "    sleep(1)\n",
    "    print(f\"--Bob Side-- I send your Y to Alice and she sends this for you: Y_Alice= {Y_Alice}\")\n",
    "\n",
    "    client.send(str(Y_Bob).encode())\n",
    "\n",
    "    shared_secret = mod_exp(Y_Alice, X_Bob, q)\n",
    "    print(f\"--Bob Side-- Your shared secret: {shared_secret}\")\n",
    "\n",
    "    client.close()\n"
   ]
  },
  {
   "cell_type": "markdown",
   "metadata": {},
   "source": [
    "### Run Alice and Bob codes"
   ]
  },
  {
   "cell_type": "code",
   "execution_count": 78,
   "metadata": {},
   "outputs": [
    {
     "name": "stdout",
     "output_type": "stream",
     "text": [
      "--Alice Side-- Hi Alice! α=134 and q=137 :).\n",
      "--Alice Side-- I'm trying to create a random number for you (as your private key)!\n",
      "--Bob Side-- Hi Bob! α=134 and q=137 :).\n",
      "--Bob Side-- I'm trying to create a random number for you (as your private key)!\n",
      "--Bob Side-- Your private key is 65.\n",
      "--Alice Side-- Your private key is 69.\n",
      "--Bob Side-- I will send your public server value Y to Alice.\n",
      "--Alice Side-- I will send your public server value Y to Bob.\n",
      "--Bob Side-- I send your Y to Alice and she sends this for you: Y_Alice= 3\n",
      "--Bob Side-- Your shared secret: 71\n",
      "--Alice Side-- I send your Y to Bob and he sends this for you: Y_Bob= 66\n",
      "--Alice Side-- Your shared secret: 71\n"
     ]
    }
   ],
   "source": [
    "server_thread = threading.Thread(target=Alice_side)\n",
    "client_thread = threading.Thread(target=Bob_side)\n",
    "server_thread.start()\n",
    "client_thread.start()\n",
    "try:\n",
    "    server_thread.join()\n",
    "    sleep(1)\n",
    "    client_thread.join()\n",
    "except:\n",
    "    pass"
   ]
  },
  {
   "cell_type": "markdown",
   "metadata": {},
   "source": [
    "# **Attachment: Man In The Middle Attack to Diffi-Hellman Algorithm**"
   ]
  },
  {
   "cell_type": "code",
   "execution_count": 79,
   "metadata": {},
   "outputs": [],
   "source": [
    "# TODO"
   ]
  },
  {
   "cell_type": "markdown",
   "metadata": {},
   "source": [
    "# **Attachment: Authenticated Diffi-Hellman Algorithm**"
   ]
  },
  {
   "cell_type": "markdown",
   "metadata": {},
   "source": [
    "### Imports"
   ]
  },
  {
   "cell_type": "code",
   "execution_count": 80,
   "metadata": {},
   "outputs": [],
   "source": [
    "import socket\n",
    "import random\n",
    "import threading\n",
    "from time import sleep\n",
    "from utils import mod_exp\n",
    "\n",
    "%run ./utils.ipynb"
   ]
  },
  {
   "cell_type": "markdown",
   "metadata": {},
   "source": [
    "### Create Algorithm Parameters"
   ]
  },
  {
   "cell_type": "code",
   "execution_count": 81,
   "metadata": {},
   "outputs": [],
   "source": [
    "g=2\n",
    "\n",
    "n_Bob=15\n",
    "e_Bob=7\n",
    "d_Bob=15\n",
    "\n",
    "n_Alice=33\n",
    "e_Alice=3\n",
    "d_Alice=7\n",
    "\n",
    "MAX_RAND_NUMBER= 3"
   ]
  },
  {
   "cell_type": "markdown",
   "metadata": {},
   "source": [
    "### Alice Side"
   ]
  },
  {
   "cell_type": "code",
   "execution_count": 82,
   "metadata": {},
   "outputs": [],
   "source": [
    "def Alice_side_authenticated():\n",
    "    Alice_private_key= (d_Alice, n_Alice)\n",
    "    Bob_public_key= (e_Bob, n_Bob)\n",
    "\n",
    "    print(f\"--Alice Side-- Hi Alice! your private key is {Alice_private_key} and Bob public key is {Bob_public_key}:).\")\n",
    "    print(\"--Alice Side-- I'm trying to create a random number for you (as your private key)!\")\n",
    "    sleep(2)\n",
    "    Alice_rand_numb= random.randint(1, MAX_RAND_NUMBER)\n",
    "    X_Alice= mod_exp(g, Alice_rand_numb, None)\n",
    "    print(f\"--Alice Side-- Your private key is {Alice_rand_numb}, and g^(your private key) is {X_Alice}.\")\n",
    "\n",
    "    server = socket.socket(socket.AF_INET, socket.SOCK_STREAM)\n",
    "    server.setsockopt(socket.SOL_SOCKET, socket.SO_REUSEADDR, 1)\n",
    "    server.bind(('localhost', 12345))\n",
    "    server.listen(1)\n",
    "\n",
    "    conn, _ = server.accept()\n",
    "    sign_X_Alice = mod_exp(X_Alice, Alice_private_key[0], Alice_private_key[1])\n",
    "\n",
    "    print(f\"--Alice Side-- Your sign is equal to: {sign_X_Alice}.I will send your sing and g^(your private key) to Bob.\")\n",
    "\n",
    "    message = f\"{sign_X_Alice},{X_Alice}\"\n",
    "    conn.send(str(message).encode())\n",
    "\n",
    "    data = conn.recv(1024).decode()\n",
    "    sing_X_Bob, X_Bob= map(int, data.split(','))\n",
    "    sleep(1)\n",
    "\n",
    "    print(f\"--Alice Side-- Bob sends these for you: {sing_X_Bob, X_Bob}.\")\n",
    "    verify_result= verify(sing_X_Bob, X_Bob, Bob_public_key)\n",
    "\n",
    "    if verify_result:\n",
    "        print(f'--Alice Side-- I verify the sign and it was Bob :). Now continue the algorithm.')\n",
    "    else:\n",
    "        raise Exception(f'--Alice Side-- Verify faield so message does not sent by Bob...! I Think Eve is trying to hack you!')\n",
    "\n",
    "    shared_secret= mod_exp(X_Bob, Alice_rand_numb, None)\n",
    "    print(f\"--Alice Side-- Your shared secret: {shared_secret}\")\n",
    "\n",
    "    conn.close()"
   ]
  },
  {
   "cell_type": "markdown",
   "metadata": {},
   "source": [
    "### Bob Side"
   ]
  },
  {
   "cell_type": "code",
   "execution_count": 83,
   "metadata": {},
   "outputs": [],
   "source": [
    "def Bob_side_authenticated():\n",
    "    Bob_private_key= (d_Bob, n_Bob)\n",
    "    Alice_public_key= (e_Alice, n_Alice)\n",
    "    \n",
    "    print(f\"--Bob Side-- Hi Bob! your private key is {Bob_private_key} and Alice public key is {Alice_public_key}:).\")\n",
    "    print(\"--Bob Side-- I'm trying to create a random number for you (as your private key)!\")\n",
    "    sleep(2)\n",
    "    Bob_rand_numb= random.randint(1, MAX_RAND_NUMBER)\n",
    "    X_Bob= mod_exp(g, Bob_rand_numb, None)\n",
    "    print(f\"--Bob Side-- Your private key is {Bob_rand_numb}, and g^(your private key) is {X_Bob}.\")\n",
    "\n",
    "    client = socket.socket(socket.AF_INET, socket.SOCK_STREAM)\n",
    "    client.setsockopt(socket.SOL_SOCKET, socket.SO_REUSEADDR, 1)\n",
    "    client.connect(('localhost', 12345))\n",
    "\n",
    "    data = client.recv(1024).decode()\n",
    "    sing_X_Alice, X_Alice= map(int, data.split(','))\n",
    "    sleep(1)\n",
    "    print(f\"--Bob Side-- Alice sends these for you: {sing_X_Alice, X_Alice}.\")\n",
    "    verify_result= verify(sing_X_Alice, X_Alice, Alice_public_key)\n",
    "    if verify_result:\n",
    "        print(f'--Bob Side-- I verify the sign and it was Alice :). Now continue the algorithm.')\n",
    "    else:\n",
    "        raise Exception(f'--Bob Side-- Verify faield so message does not sent by Alice...! I Think Eve is trying to hack you!')\n",
    "\n",
    "    sign_X_Bob = mod_exp(X_Bob, Bob_private_key[0], Bob_private_key[1])\n",
    "\n",
    "    print(f\"--Bob Side-- Your sign is equal to: {sign_X_Bob}.I will send your sing and g^(your private key) to Alice.\")\n",
    "\n",
    "    message = f\"{sign_X_Bob},{X_Bob}\"\n",
    "    client.send(str(message).encode())\n",
    "\n",
    "    shared_secret= mod_exp(X_Alice, Bob_rand_numb, None)\n",
    "    print(f\"--Bob Side-- Your shared secret: {shared_secret}\")\n",
    "\n",
    "    client.close()"
   ]
  },
  {
   "cell_type": "markdown",
   "metadata": {},
   "source": [
    "### Run Alice and Bob codes"
   ]
  },
  {
   "cell_type": "code",
   "execution_count": 84,
   "metadata": {},
   "outputs": [
    {
     "name": "stdout",
     "output_type": "stream",
     "text": [
      "--Alice Side-- Hi Alice! your private key is (7, 33) and Bob public key is (7, 15):).\n",
      "--Alice Side-- I'm trying to create a random number for you (as your private key)!\n",
      "--Bob Side-- Hi Bob! your private key is (15, 15) and Alice public key is (3, 33):).\n",
      "--Bob Side-- I'm trying to create a random number for you (as your private key)!\n",
      "--Alice Side-- Your private key is 2, and g^(your private key) is 4.\n",
      "--Bob Side-- Your private key is 3, and g^(your private key) is 8.\n",
      "--Alice Side-- Your sign is equal to: 16.I will send your sing and g^(your private key) to Bob.\n",
      "--Bob Side-- Alice sends these for you: (16, 4).\n",
      "--Bob Side-- I verify the sign and it was Alice :). Now continue the algorithm.\n",
      "--Bob Side-- Your sign is equal to: 2.I will send your sing and g^(your private key) to Alice.\n",
      "--Bob Side-- Your shared secret: 64\n",
      "--Alice Side-- Bob sends these for you: (2, 8).\n",
      "--Alice Side-- I verify the sign and it was Bob :). Now continue the algorithm.\n",
      "--Alice Side-- Your shared secret: 64\n"
     ]
    }
   ],
   "source": [
    "server_thread = threading.Thread(target=Alice_side_authenticated)\n",
    "client_thread = threading.Thread(target=Bob_side_authenticated)\n",
    "server_thread.start()\n",
    "client_thread.start()\n",
    "try:\n",
    "    server_thread.join()\n",
    "    sleep(1)\n",
    "    client_thread.join()\n",
    "except:\n",
    "    pass"
   ]
  }
 ],
 "metadata": {
  "kernelspec": {
   "display_name": "security-env",
   "language": "python",
   "name": "python3"
  },
  "language_info": {
   "codemirror_mode": {
    "name": "ipython",
    "version": 3
   },
   "file_extension": ".py",
   "mimetype": "text/x-python",
   "name": "python",
   "nbconvert_exporter": "python",
   "pygments_lexer": "ipython3",
   "version": "3.10.12"
  }
 },
 "nbformat": 4,
 "nbformat_minor": 2
}
