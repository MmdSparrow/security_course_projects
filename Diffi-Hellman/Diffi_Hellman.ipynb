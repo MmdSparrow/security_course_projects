{
 "cells": [
  {
   "cell_type": "markdown",
   "metadata": {},
   "source": [
    "# **Security Course**\n",
    "### <span style=\"font-weight:bold;\">Instructor:</span> <span style=\"font-size:19px;\"><a href=\"https://ir.linkedin.com/in/hrshahriari\">Dr. Hamid Reza Shahriari</a></span>\n",
    "### <span style=\"font-weight:bold;\">Organization</span>\n",
    "### <span style=\"font-size:19px;\"><a href=\"https://aut.ac.ir/en\">Amirkabir University of Technology (Tehran Polytechnic)</a></span>\n",
    "<img src=\"../assets/AKUT-white-logo.png\" alt=\"Amirkabir University of Technology logo\" style=\"width:300px;\">"
   ]
  },
  {
   "cell_type": "markdown",
   "metadata": {},
   "source": [
    "# **Diffi-Hellman Algorithm**\n",
    "In this notebook, we will walk through the steps of implementing the Diffi-Hellman algorithm."
   ]
  },
  {
   "cell_type": "markdown",
   "metadata": {},
   "source": [
    "### Import"
   ]
  },
  {
   "cell_type": "code",
   "execution_count": 81,
   "metadata": {},
   "outputs": [],
   "source": [
    "import socket\n",
    "import random\n",
    "import threading\n",
    "from time import sleep\n",
    "from utils import mod_exp\n",
    "\n",
    "%run ./utils.ipynb"
   ]
  },
  {
   "cell_type": "markdown",
   "metadata": {},
   "source": [
    "### Create Algorithm Paramters"
   ]
  },
  {
   "cell_type": "code",
   "execution_count": 82,
   "metadata": {},
   "outputs": [
    {
     "name": "stdout",
     "output_type": "stream",
     "text": [
      "selected primitve root or α for your prime number is 134.\n"
     ]
    }
   ],
   "source": [
    "q=int(input(\"Enter a prime number: \"))\n",
    "while(True):\n",
    "    if is_prime(q):\n",
    "        break\n",
    "    print(\"Input number is not prime, try again!\")\n",
    "\n",
    "alpha = find_primitive_root(q)\n",
    "print(f\"selected primitve root or \\u03B1 for your prime number is {alpha}.\")"
   ]
  },
  {
   "cell_type": "markdown",
   "metadata": {},
   "source": [
    "### Alice Side"
   ]
  },
  {
   "cell_type": "code",
   "execution_count": 83,
   "metadata": {},
   "outputs": [],
   "source": [
    "def Alice_side():\n",
    "    q = 137\n",
    "    alpha = 134\n",
    "\n",
    "    print(f\"--Alice Side-- Hi Alice! \\u03B1={alpha} and q={q} :).\")\n",
    "    print(\"--Alice Side-- I'm trying to create a random number for you (as your private key)!\")\n",
    "    sleep(2)\n",
    "    X_Alice= random.randint(1, q-1)\n",
    "    print(f\"--Alice Side-- Your private key is {X_Alice}.\")\n",
    "\n",
    "    server = None\n",
    "    try:\n",
    "        server = socket.socket(socket.AF_INET, socket.SOCK_STREAM)\n",
    "        server.setsockopt(socket.SOL_SOCKET, socket.SO_REUSEADDR, 1)\n",
    "        server.bind(('localhost', 12345))\n",
    "        server.listen(1)\n",
    "    except Exception:\n",
    "        pass\n",
    "\n",
    "    conn, _ = server.accept()\n",
    "\n",
    "    Y_Alice = mod_exp(alpha, X_Alice, q)\n",
    "    print(\"--Alice Side-- I will send your public server value Y to Bob.\")\n",
    "\n",
    "    conn.send(str(Y_Alice).encode())\n",
    "\n",
    "    Y_Bob = int(conn.recv(1024).decode())\n",
    "    sleep(1)\n",
    "    print(f\"--Alice Side-- I send your Y to Bob and he sends this for you: Y_Bob= {Y_Bob}\")\n",
    "\n",
    "    shared_secret = mod_exp(Y_Bob, X_Alice, q)\n",
    "    print(f\"--Alice Side-- Your shared secret: {shared_secret}\")\n",
    "\n",
    "    server.close()"
   ]
  },
  {
   "cell_type": "markdown",
   "metadata": {},
   "source": [
    "### Bob Side"
   ]
  },
  {
   "cell_type": "code",
   "execution_count": 84,
   "metadata": {},
   "outputs": [],
   "source": [
    "def Bob_side():\n",
    "    q = 137\n",
    "    alpha = 134\n",
    "\n",
    "    print(f\"--Bob Side-- Hi Bob! \\u03B1={alpha} and q={q} :).\")\n",
    "    print(\"--Bob Side-- I'm trying to create a random number for you (as your private key)!\")\n",
    "    sleep(2)\n",
    "    X_Bob= random.randint(1, q-1)\n",
    "    print(f\"--Bob Side-- Your private key is {X_Bob}.\")\n",
    "\n",
    "    client = None\n",
    "    try:\n",
    "        client = socket.socket(socket.AF_INET, socket.SOCK_STREAM)\n",
    "        client.setsockopt(socket.SOL_SOCKET, socket.SO_REUSEADDR, 1)\n",
    "        client.connect(('localhost', 12345))\n",
    "    except Exception:\n",
    "        pass\n",
    "\n",
    "    Y_Bob = mod_exp(alpha, X_Bob, q)\n",
    "    print(\"--Bob Side-- I will send your public server value Y to Alice.\")\n",
    "\n",
    "    Y_Alice = int(client.recv(1024).decode())\n",
    "    sleep(1)\n",
    "    print(f\"--Bob Side-- I send your Y to Alice and she sends this for you: Y_Alice= {Y_Alice}\")\n",
    "\n",
    "    client.send(str(Y_Bob).encode())\n",
    "\n",
    "    shared_secret = mod_exp(Y_Alice, X_Bob, q)\n",
    "    print(f\"--Bob Side-- Your shared secret: {shared_secret}\")\n",
    "\n",
    "    client.close()\n"
   ]
  },
  {
   "cell_type": "markdown",
   "metadata": {},
   "source": [
    "### Run Alice and Bob codes"
   ]
  },
  {
   "cell_type": "code",
   "execution_count": 85,
   "metadata": {},
   "outputs": [
    {
     "name": "stdout",
     "output_type": "stream",
     "text": [
      "--Alice Side-- Hi Alice! α=134 and q=137 :).\n",
      "--Alice Side-- I'm trying to create a random number for you (as your private key)!\n",
      "--Bob Side-- Hi Bob! α=134 and q=137 :).\n",
      "--Bob Side-- I'm trying to create a random number for you (as your private key)!\n"
     ]
    },
    {
     "name": "stderr",
     "output_type": "stream",
     "text": [
      "Exception in thread Thread-130 (Alice_side):\n",
      "Traceback (most recent call last):\n",
      "  File \"/usr/lib/python3.10/threading.py\", line 1016, in _bootstrap_inner\n",
      "    self.run()\n",
      "  File \"/media/mmdsparrow/ubuntu-volume/python_projects/security_projects/security-env/lib/python3.10/site-packages/ipykernel/ipkernel.py\", line 766, in run_closure\n",
      "    _threading_Thread_run(self)\n",
      "  File \"/usr/lib/python3.10/threading.py\", line 953, in run\n",
      "    self._target(*self._args, **self._kwargs)\n",
      "  File \"/tmp/ipykernel_69494/358170874.py\", line 20, in Alice_side\n",
      "  File \"/usr/lib/python3.10/socket.py\", line 293, in accept\n",
      "    fd, addr = self._accept()\n",
      "OSError: [Errno 22] Invalid argument\n"
     ]
    },
    {
     "name": "stdout",
     "output_type": "stream",
     "text": [
      "--Alice Side-- Your private key is 122.\n",
      "--Bob Side-- Your private key is 113.\n"
     ]
    },
    {
     "ename": "KeyboardInterrupt",
     "evalue": "",
     "output_type": "error",
     "traceback": [
      "\u001b[0;31m---------------------------------------------------------------------------\u001b[0m",
      "\u001b[0;31mKeyboardInterrupt\u001b[0m                         Traceback (most recent call last)",
      "Cell \u001b[0;32mIn[85], line 7\u001b[0m\n\u001b[1;32m      5\u001b[0m server_thread\u001b[38;5;241m.\u001b[39mjoin()\n\u001b[1;32m      6\u001b[0m sleep(\u001b[38;5;241m1\u001b[39m)\n\u001b[0;32m----> 7\u001b[0m \u001b[43mclient_thread\u001b[49m\u001b[38;5;241;43m.\u001b[39;49m\u001b[43mjoin\u001b[49m\u001b[43m(\u001b[49m\u001b[43m)\u001b[49m\n",
      "File \u001b[0;32m/usr/lib/python3.10/threading.py:1096\u001b[0m, in \u001b[0;36mThread.join\u001b[0;34m(self, timeout)\u001b[0m\n\u001b[1;32m   1093\u001b[0m     \u001b[38;5;28;01mraise\u001b[39;00m \u001b[38;5;167;01mRuntimeError\u001b[39;00m(\u001b[38;5;124m\"\u001b[39m\u001b[38;5;124mcannot join current thread\u001b[39m\u001b[38;5;124m\"\u001b[39m)\n\u001b[1;32m   1095\u001b[0m \u001b[38;5;28;01mif\u001b[39;00m timeout \u001b[38;5;129;01mis\u001b[39;00m \u001b[38;5;28;01mNone\u001b[39;00m:\n\u001b[0;32m-> 1096\u001b[0m     \u001b[38;5;28;43mself\u001b[39;49m\u001b[38;5;241;43m.\u001b[39;49m\u001b[43m_wait_for_tstate_lock\u001b[49m\u001b[43m(\u001b[49m\u001b[43m)\u001b[49m\n\u001b[1;32m   1097\u001b[0m \u001b[38;5;28;01melse\u001b[39;00m:\n\u001b[1;32m   1098\u001b[0m     \u001b[38;5;66;03m# the behavior of a negative timeout isn't documented, but\u001b[39;00m\n\u001b[1;32m   1099\u001b[0m     \u001b[38;5;66;03m# historically .join(timeout=x) for x<0 has acted as if timeout=0\u001b[39;00m\n\u001b[1;32m   1100\u001b[0m     \u001b[38;5;28mself\u001b[39m\u001b[38;5;241m.\u001b[39m_wait_for_tstate_lock(timeout\u001b[38;5;241m=\u001b[39m\u001b[38;5;28mmax\u001b[39m(timeout, \u001b[38;5;241m0\u001b[39m))\n",
      "File \u001b[0;32m/usr/lib/python3.10/threading.py:1116\u001b[0m, in \u001b[0;36mThread._wait_for_tstate_lock\u001b[0;34m(self, block, timeout)\u001b[0m\n\u001b[1;32m   1113\u001b[0m     \u001b[38;5;28;01mreturn\u001b[39;00m\n\u001b[1;32m   1115\u001b[0m \u001b[38;5;28;01mtry\u001b[39;00m:\n\u001b[0;32m-> 1116\u001b[0m     \u001b[38;5;28;01mif\u001b[39;00m \u001b[43mlock\u001b[49m\u001b[38;5;241;43m.\u001b[39;49m\u001b[43macquire\u001b[49m\u001b[43m(\u001b[49m\u001b[43mblock\u001b[49m\u001b[43m,\u001b[49m\u001b[43m \u001b[49m\u001b[43mtimeout\u001b[49m\u001b[43m)\u001b[49m:\n\u001b[1;32m   1117\u001b[0m         lock\u001b[38;5;241m.\u001b[39mrelease()\n\u001b[1;32m   1118\u001b[0m         \u001b[38;5;28mself\u001b[39m\u001b[38;5;241m.\u001b[39m_stop()\n",
      "\u001b[0;31mKeyboardInterrupt\u001b[0m: "
     ]
    }
   ],
   "source": [
    "server_thread = threading.Thread(target=Alice_side)\n",
    "client_thread = threading.Thread(target=Bob_side)\n",
    "server_thread.start()\n",
    "client_thread.start()\n",
    "server_thread.join()\n",
    "sleep(1)\n",
    "client_thread.join()"
   ]
  },
  {
   "cell_type": "markdown",
   "metadata": {},
   "source": [
    "# **Attachment: Man In The Middle Attack to Diffi-Hellman Algorithm**"
   ]
  },
  {
   "cell_type": "code",
   "execution_count": null,
   "metadata": {},
   "outputs": [],
   "source": [
    "# TODO"
   ]
  },
  {
   "cell_type": "markdown",
   "metadata": {},
   "source": [
    "# **Attachment: Authenticated Diffi-Hellman Algorithm**"
   ]
  },
  {
   "cell_type": "markdown",
   "metadata": {},
   "source": [
    "### Imports"
   ]
  },
  {
   "cell_type": "code",
   "execution_count": null,
   "metadata": {},
   "outputs": [],
   "source": [
    "import socket\n",
    "import random\n",
    "import threading\n",
    "from time import sleep\n",
    "from utils import mod_exp\n",
    "\n",
    "%run ./utils.ipynb\n",
    "%run ./RSA.ipynb"
   ]
  },
  {
   "cell_type": "markdown",
   "metadata": {},
   "source": [
    "### Generate Algorithm Parameters (by use of RSA, etc)"
   ]
  },
  {
   "cell_type": "code",
   "execution_count": null,
   "metadata": {},
   "outputs": [
    {
     "name": "stdout",
     "output_type": "stream",
     "text": [
      "Random primes are: 191, 239\n",
      "n and φ(n) in order are equal to 45649, 45220\n",
      "Private and public keys in order are equl to: (e, n)= (41309, 45649), (d, n)= (33149, 45649)\n",
      "Random primes are: 229, 199\n",
      "n and φ(n) in order are equal to 45571, 45144\n",
      "Private and public keys in order are equl to: (e, n)= (16933, 45571), (d, n)= (35269, 45571)\n"
     ]
    }
   ],
   "source": [
    "g=2\n",
    "\n",
    "keysize=6\n",
    "\n",
    "Bob_private_key, Bob_public_key = RSA(keysize)\n",
    "Alice_private_key, Alice_public_key = RSA(keysize)\n",
    "\n",
    "MAX_RAND_NUMBER= 3"
   ]
  },
  {
   "cell_type": "markdown",
   "metadata": {},
   "source": [
    "### Alice Side"
   ]
  },
  {
   "cell_type": "code",
   "execution_count": null,
   "metadata": {},
   "outputs": [],
   "source": [
    "def Alice_side_authenticated(Alice_private_key, Bob_public_key):\n",
    "\n",
    "    print(f\"--Alice Side-- Hi Alice! your private key is {Alice_private_key} and Bob public key is {Bob_public_key}:).\")\n",
    "    print(\"--Alice Side-- I'm trying to create a random number for you (as your private key)!\")\n",
    "    sleep(2)\n",
    "    Alice_rand_numb= random.randint(1, MAX_RAND_NUMBER)\n",
    "    X_Alice= mod_exp(g, Alice_rand_numb, None)\n",
    "    print(f\"--Alice Side-- Your private key is {Alice_rand_numb}, and g^(your private key) is {X_Alice}.\")\n",
    "\n",
    "    server = socket.socket(socket.AF_INET, socket.SOCK_STREAM)\n",
    "    server.setsockopt(socket.SOL_SOCKET, socket.SO_REUSEADDR, 1)\n",
    "    server.bind(('localhost', 12345))\n",
    "    server.listen(1)\n",
    "\n",
    "    conn, _ = server.accept()\n",
    "    sign_X_Alice = mod_exp(X_Alice, Alice_private_key[0], Alice_private_key[1])\n",
    "\n",
    "    print(f\"--Alice Side-- Your sign is equal to: {sign_X_Alice}.I will send your sing and g^(your private key) to Bob.\")\n",
    "\n",
    "    message = f\"{sign_X_Alice},{X_Alice}\"\n",
    "    conn.send(str(message).encode())\n",
    "\n",
    "    data = conn.recv(1024).decode()\n",
    "    sing_X_Bob, X_Bob= map(int, data.split(','))\n",
    "    sleep(1)\n",
    "\n",
    "    print(f\"--Alice Side-- Bob sends these for you: {sing_X_Bob, X_Bob}.\")\n",
    "    verify_result= verify(sing_X_Bob, X_Bob, Bob_public_key)\n",
    "\n",
    "    if verify_result:\n",
    "        print(f'--Alice Side-- I verify the sign and it was Bob :). Now continue the algorithm.')\n",
    "    else:\n",
    "        raise Exception(f'--Alice Side-- Verify faield so message does not sent by Bob...! I Think Eve is trying to hack you!')\n",
    "\n",
    "    shared_secret= mod_exp(X_Bob, Alice_rand_numb, None)\n",
    "    print(f\"--Alice Side-- Your shared secret: {shared_secret}\")\n",
    "\n",
    "    conn.close()"
   ]
  },
  {
   "cell_type": "markdown",
   "metadata": {},
   "source": [
    "### Bob Side"
   ]
  },
  {
   "cell_type": "code",
   "execution_count": null,
   "metadata": {},
   "outputs": [],
   "source": [
    "def Bob_side_authenticated(Bob_private_key, Alice_public_key):\n",
    "    \n",
    "    print(f\"--Bob Side-- Hi Bob! your private key is {Bob_private_key} and Alice public key is {Alice_public_key}:).\")\n",
    "    print(\"--Bob Side-- I'm trying to create a random number for you (as your private key)!\")\n",
    "    sleep(2)\n",
    "    Bob_rand_numb= random.randint(1, MAX_RAND_NUMBER)\n",
    "    X_Bob= mod_exp(g, Bob_rand_numb, None)\n",
    "    print(f\"--Bob Side-- Your private key is {Bob_rand_numb}, and g^(your private key) is {X_Bob}.\")\n",
    "\n",
    "    client = socket.socket(socket.AF_INET, socket.SOCK_STREAM)\n",
    "    client.setsockopt(socket.SOL_SOCKET, socket.SO_REUSEADDR, 1)\n",
    "    client.connect(('localhost', 12345))\n",
    "\n",
    "    data = client.recv(1024).decode()\n",
    "    sing_X_Alice, X_Alice= map(int, data.split(','))\n",
    "    sleep(1)\n",
    "    print(f\"--Bob Side-- Alice sends these for you: {sing_X_Alice, X_Alice}.\")\n",
    "    verify_result= verify(sing_X_Alice, X_Alice, Alice_public_key)\n",
    "    if verify_result:\n",
    "        print(f'--Bob Side-- I verify the sign and it was Alice :). Now continue the algorithm.')\n",
    "    else:\n",
    "        raise Exception(f'--Bob Side-- Verify faield so message does not sent by Alice...! I Think Eve is trying to hack you!')\n",
    "\n",
    "    sign_X_Bob = mod_exp(X_Bob, Bob_private_key[0], Bob_private_key[1])\n",
    "\n",
    "    print(f\"--Bob Side-- Your sign is equal to: {sign_X_Bob}.I will send your sing and g^(your private key) to Alice.\")\n",
    "\n",
    "    message = f\"{sign_X_Bob},{X_Bob}\"\n",
    "    client.send(str(message).encode())\n",
    "\n",
    "    shared_secret= mod_exp(X_Alice, Bob_rand_numb, None)\n",
    "    print(f\"--Bob Side-- Your shared secret: {shared_secret}\")\n",
    "\n",
    "    client.close()"
   ]
  },
  {
   "cell_type": "markdown",
   "metadata": {},
   "source": [
    "### Run Alice and Bob codes"
   ]
  },
  {
   "cell_type": "code",
   "execution_count": null,
   "metadata": {},
   "outputs": [
    {
     "name": "stdout",
     "output_type": "stream",
     "text": [
      "--Alice Side-- Hi Alice! your private key is (16933, 45571) and Bob public key is (33149, 45649):).\n",
      "--Alice Side-- I'm trying to create a random number for you (as your private key)!\n",
      "--Alice Side-- Your private key is 2, and g^(your private key) is 4.\n"
     ]
    },
    {
     "ename": "KeyboardInterrupt",
     "evalue": "",
     "output_type": "error",
     "traceback": [
      "\u001b[0;31m---------------------------------------------------------------------------\u001b[0m",
      "\u001b[0;31mKeyboardInterrupt\u001b[0m                         Traceback (most recent call last)",
      "Cell \u001b[0;32mIn[70], line 1\u001b[0m\n\u001b[0;32m----> 1\u001b[0m server_thread \u001b[38;5;241m=\u001b[39m threading\u001b[38;5;241m.\u001b[39mThread(target\u001b[38;5;241m=\u001b[39m\u001b[43mAlice_side_authenticated\u001b[49m\u001b[43m(\u001b[49m\u001b[43mAlice_private_key\u001b[49m\u001b[43m,\u001b[49m\u001b[43m \u001b[49m\u001b[43mBob_public_key\u001b[49m\u001b[43m)\u001b[49m)\n\u001b[1;32m      2\u001b[0m client_thread \u001b[38;5;241m=\u001b[39m threading\u001b[38;5;241m.\u001b[39mThread(target\u001b[38;5;241m=\u001b[39mBob_side_authenticated(Bob_private_key, Alice_public_key))\n\u001b[1;32m      3\u001b[0m server_thread\u001b[38;5;241m.\u001b[39mstart()\n",
      "Cell \u001b[0;32mIn[67], line 15\u001b[0m, in \u001b[0;36mAlice_side_authenticated\u001b[0;34m(Alice_private_key, Bob_public_key)\u001b[0m\n\u001b[1;32m     12\u001b[0m server\u001b[38;5;241m.\u001b[39mbind((\u001b[38;5;124m'\u001b[39m\u001b[38;5;124mlocalhost\u001b[39m\u001b[38;5;124m'\u001b[39m, \u001b[38;5;241m12345\u001b[39m))\n\u001b[1;32m     13\u001b[0m server\u001b[38;5;241m.\u001b[39mlisten(\u001b[38;5;241m1\u001b[39m)\n\u001b[0;32m---> 15\u001b[0m conn, _ \u001b[38;5;241m=\u001b[39m \u001b[43mserver\u001b[49m\u001b[38;5;241;43m.\u001b[39;49m\u001b[43maccept\u001b[49m\u001b[43m(\u001b[49m\u001b[43m)\u001b[49m\n\u001b[1;32m     16\u001b[0m sign_X_Alice \u001b[38;5;241m=\u001b[39m mod_exp(X_Alice, Alice_private_key[\u001b[38;5;241m0\u001b[39m], Alice_private_key[\u001b[38;5;241m1\u001b[39m])\n\u001b[1;32m     18\u001b[0m \u001b[38;5;28mprint\u001b[39m(\u001b[38;5;124mf\u001b[39m\u001b[38;5;124m\"\u001b[39m\u001b[38;5;124m--Alice Side-- Your sign is equal to: \u001b[39m\u001b[38;5;132;01m{\u001b[39;00msign_X_Alice\u001b[38;5;132;01m}\u001b[39;00m\u001b[38;5;124m.I will send your sing and g^(your private key) to Bob.\u001b[39m\u001b[38;5;124m\"\u001b[39m)\n",
      "File \u001b[0;32m/usr/lib/python3.10/socket.py:293\u001b[0m, in \u001b[0;36msocket.accept\u001b[0;34m(self)\u001b[0m\n\u001b[1;32m    286\u001b[0m \u001b[38;5;28;01mdef\u001b[39;00m \u001b[38;5;21maccept\u001b[39m(\u001b[38;5;28mself\u001b[39m):\n\u001b[1;32m    287\u001b[0m \u001b[38;5;250m    \u001b[39m\u001b[38;5;124;03m\"\"\"accept() -> (socket object, address info)\u001b[39;00m\n\u001b[1;32m    288\u001b[0m \n\u001b[1;32m    289\u001b[0m \u001b[38;5;124;03m    Wait for an incoming connection.  Return a new socket\u001b[39;00m\n\u001b[1;32m    290\u001b[0m \u001b[38;5;124;03m    representing the connection, and the address of the client.\u001b[39;00m\n\u001b[1;32m    291\u001b[0m \u001b[38;5;124;03m    For IP sockets, the address info is a pair (hostaddr, port).\u001b[39;00m\n\u001b[1;32m    292\u001b[0m \u001b[38;5;124;03m    \"\"\"\u001b[39;00m\n\u001b[0;32m--> 293\u001b[0m     fd, addr \u001b[38;5;241m=\u001b[39m \u001b[38;5;28;43mself\u001b[39;49m\u001b[38;5;241;43m.\u001b[39;49m\u001b[43m_accept\u001b[49m\u001b[43m(\u001b[49m\u001b[43m)\u001b[49m\n\u001b[1;32m    294\u001b[0m     sock \u001b[38;5;241m=\u001b[39m socket(\u001b[38;5;28mself\u001b[39m\u001b[38;5;241m.\u001b[39mfamily, \u001b[38;5;28mself\u001b[39m\u001b[38;5;241m.\u001b[39mtype, \u001b[38;5;28mself\u001b[39m\u001b[38;5;241m.\u001b[39mproto, fileno\u001b[38;5;241m=\u001b[39mfd)\n\u001b[1;32m    295\u001b[0m     \u001b[38;5;66;03m# Issue #7995: if no default timeout is set and the listening\u001b[39;00m\n\u001b[1;32m    296\u001b[0m     \u001b[38;5;66;03m# socket had a (non-zero) timeout, force the new socket in blocking\u001b[39;00m\n\u001b[1;32m    297\u001b[0m     \u001b[38;5;66;03m# mode to override platform-specific socket flags inheritance.\u001b[39;00m\n",
      "\u001b[0;31mKeyboardInterrupt\u001b[0m: "
     ]
    }
   ],
   "source": [
    "server_thread = threading.Thread(target=Alice_side_authenticated(Alice_private_key, Bob_public_key))\n",
    "client_thread = threading.Thread(target=Bob_side_authenticated(Bob_private_key, Alice_public_key))\n",
    "server_thread.start()\n",
    "client_thread.start()\n",
    "try:\n",
    "    server_thread.join()\n",
    "    sleep(1)\n",
    "    client_thread.join()\n",
    "except Exception:\n",
    "    pass"
   ]
  }
 ],
 "metadata": {
  "kernelspec": {
   "display_name": "security-env",
   "language": "python",
   "name": "python3"
  },
  "language_info": {
   "codemirror_mode": {
    "name": "ipython",
    "version": 3
   },
   "file_extension": ".py",
   "mimetype": "text/x-python",
   "name": "python",
   "nbconvert_exporter": "python",
   "pygments_lexer": "ipython3",
   "version": "3.10.12"
  }
 },
 "nbformat": 4,
 "nbformat_minor": 2
}
