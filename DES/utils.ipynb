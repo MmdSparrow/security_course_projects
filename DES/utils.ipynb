{
 "cells": [
  {
   "cell_type": "markdown",
   "metadata": {},
   "source": [
    "### Imports\n"
   ]
  },
  {
   "cell_type": "code",
   "execution_count": 2,
   "metadata": {},
   "outputs": [],
   "source": [
    "%run ./tables.ipynb"
   ]
  },
  {
   "cell_type": "markdown",
   "metadata": {},
   "source": [
    "### Common"
   ]
  },
  {
   "cell_type": "code",
   "execution_count": null,
   "metadata": {},
   "outputs": [],
   "source": [
    "def tabular_permutation(input_binary: str, table: list[int]) -> str:\n",
    "    return ''.join(input_binary[entry - 1] for entry in table)"
   ]
  },
  {
   "cell_type": "code",
   "execution_count": null,
   "metadata": {},
   "outputs": [],
   "source": [
    "def XOR(input_binary_1: str, input_binary_2: str) -> str:\n",
    "    l1= len(input_binary_1)\n",
    "    l2= len(input_binary_2)\n",
    "    if l1!=l2:\n",
    "        raise Exception(f\"size of the input binaries for XOR operation must be the same!. (length first input {l1}, lenght second input {l2})\")\n",
    "    return ''.join(str(int(input_binary_1[i])^int(input_binary_2[i])) for i in range(len(input_binary_1)))"
   ]
  },
  {
   "cell_type": "markdown",
   "metadata": {},
   "source": [
    "### Key Schedule Utils"
   ]
  },
  {
   "cell_type": "code",
   "execution_count": null,
   "metadata": {},
   "outputs": [],
   "source": [
    "def permuted_choice_1(key:str)-> str:\n",
    "    return tabular_permutation(key, PERMUTED_CHOICE_1_TABLE)"
   ]
  },
  {
   "cell_type": "code",
   "execution_count": null,
   "metadata": {},
   "outputs": [],
   "source": [
    "def left_shit_register(input_binary:str, shift: int)-> str:\n",
    "    return input_binary[shift:] + input_binary[:shift]"
   ]
  },
  {
   "cell_type": "code",
   "execution_count": null,
   "metadata": {},
   "outputs": [],
   "source": [
    "def permuted_choice_2(key:str)-> str:\n",
    "    return tabular_permutation(key, PERMUTED_CHOICE_2_TABLE)"
   ]
  },
  {
   "cell_type": "markdown",
   "metadata": {},
   "source": [
    "### Round Function Utils"
   ]
  },
  {
   "cell_type": "code",
   "execution_count": null,
   "metadata": {},
   "outputs": [],
   "source": [
    "def round_function_initial_expansion_permutation(input_binary: str) -> str:\n",
    "    return tabular_permutation(input_binary, ROUND_FUNCTION_INITIAL_PERMUTATION_TABLE)"
   ]
  },
  {
   "cell_type": "code",
   "execution_count": null,
   "metadata": {},
   "outputs": [],
   "source": [
    "def sbox_operation(input_binary: str)-> str:\n",
    "    output = ''\n",
    "    for i in range(0, len(input_binary), 6):\n",
    "        row = int(input_binary[i]+input_binary[i+5], 2)\n",
    "        column = int(input_binary[i+1:i+5], 2)\n",
    "        result = S_BOX_TABLE[i//6][row][column]\n",
    "        output+= f\"{result:04b}\"\n",
    "    return output"
   ]
  },
  {
   "cell_type": "code",
   "execution_count": null,
   "metadata": {},
   "outputs": [],
   "source": [
    "def round_function_final_permutation(input_binary: str)-> str:\n",
    "    return tabular_permutation(input_binary, ROUND_FUNCTION_FINAL_PERMUTATION_TABLE)"
   ]
  },
  {
   "cell_type": "markdown",
   "metadata": {},
   "source": [
    "### More"
   ]
  },
  {
   "cell_type": "code",
   "execution_count": null,
   "metadata": {},
   "outputs": [],
   "source": [
    "def initial_permutation(input_binary: str) -> str:\n",
    "    return tabular_permutation(input_binary, INITIAL_PERMUTATION_TABLE)"
   ]
  },
  {
   "cell_type": "code",
   "execution_count": null,
   "metadata": {},
   "outputs": [],
   "source": [
    "def final_permutation(input_binary: str) -> str:\n",
    "    return tabular_permutation(input_binary, FINAL_PERMUTATION_TABLE)"
   ]
  },
  {
   "cell_type": "markdown",
   "metadata": {},
   "source": [
    "### Additional"
   ]
  },
  {
   "cell_type": "code",
   "execution_count": null,
   "metadata": {},
   "outputs": [],
   "source": [
    "def string_to_binary(input_string):\n",
    "    return ''.join(format(ord(char), '08b') for char in input_string)"
   ]
  },
  {
   "cell_type": "code",
   "execution_count": null,
   "metadata": {},
   "outputs": [],
   "source": [
    "def binary_to_string(binary_string):\n",
    "    chars = [binary_string[i:i+8] for i in range(0, len(binary_string), 8)]\n",
    "    return ''.join(chr(int(char, 2)) for char in chars)"
   ]
  }
 ],
 "metadata": {
  "kernelspec": {
   "display_name": "security-env",
   "language": "python",
   "name": "python3"
  },
  "language_info": {
   "codemirror_mode": {
    "name": "ipython",
    "version": 3
   },
   "file_extension": ".py",
   "mimetype": "text/x-python",
   "name": "python",
   "nbconvert_exporter": "python",
   "pygments_lexer": "ipython3",
   "version": "3.10.12"
  }
 },
 "nbformat": 4,
 "nbformat_minor": 2
}
