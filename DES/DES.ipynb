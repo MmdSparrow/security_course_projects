{
 "cells": [
  {
   "cell_type": "markdown",
   "metadata": {},
   "source": [
    "# **Security Course**\n",
    "### <span style=\"font-weight:bold;\">Instructor:</span> <span style=\"font-size:19px;\"><a href=\"https://ir.linkedin.com/in/hrshahriari\">Dr. Hamid Reza Shahriari</a></span>\n",
    "### <span style=\"font-weight:bold;\">Organization</span>\n",
    "### <span style=\"font-size:19px;\"><a href=\"https://aut.ac.ir/en\">Amirkabir University of Technology (Tehran Polytechnic)</a></span>\n",
    "<img src=\"../assets/AKUT-logo.png\" alt=\"Amirkabir University of Technology logo\" style=\"width:300px;\">"
   ]
  },
  {
   "cell_type": "markdown",
   "metadata": {},
   "source": [
    "# **DES Encryption Algorithm**\n",
    "In this notebook, we will walk through the steps of implementing the Data Encryption Standard (DES) algorithm."
   ]
  },
  {
   "cell_type": "markdown",
   "metadata": {},
   "source": [
    "### Imports"
   ]
  },
  {
   "cell_type": "code",
   "execution_count": 212,
   "metadata": {},
   "outputs": [],
   "source": [
    "%run ./utils.ipynb"
   ]
  },
  {
   "cell_type": "markdown",
   "metadata": {},
   "source": [
    "### Key Scheduler"
   ]
  },
  {
   "cell_type": "code",
   "execution_count": 213,
   "metadata": {},
   "outputs": [],
   "source": [
    "def key_scheduler(key: str)-> list[str]:\n",
    "    \"\"\"_summary_\n",
    "\n",
    "    Args:\n",
    "        key (str): input key\n",
    "\n",
    "    Returns:\n",
    "        list[str]: list of the subkeys for each round\n",
    "    \"\"\"\n",
    "    subkey_list = []\n",
    "    permuted_key= permuted_choice_1(key)\n",
    "\n",
    "    R = permuted_key[28:]\n",
    "    L = permuted_key[:28]\n",
    "\n",
    "    for i in range(16):\n",
    "        R=left_shit_register(R, SHIFT_TABLE[i])\n",
    "        L=left_shit_register(L, SHIFT_TABLE[i])\n",
    "\n",
    "        subkey=permuted_choice_2(L+R)\n",
    "        \n",
    "        subkey_list.append(subkey)\n",
    "\n",
    "    return subkey_list "
   ]
  },
  {
   "cell_type": "markdown",
   "metadata": {},
   "source": [
    "### Round Function"
   ]
  },
  {
   "cell_type": "code",
   "execution_count": 214,
   "metadata": {},
   "outputs": [],
   "source": [
    "def round_fucntion(R: str, subkey: str) -> str:\n",
    "    \"\"\"\n",
    "    _summary_\n",
    "\n",
    "    Args:\n",
    "        R (str): lowest 32 bits of round input\n",
    "        subkey (str): subkey that belong to this round\n",
    "\n",
    "    Returns:\n",
    "        str: round output\n",
    "    \"\"\"\n",
    "    round_function_initial_permutation_output = round_function_initial_expansion_permutation(R)\n",
    "    xor_output= XOR(round_function_initial_permutation_output, subkey)\n",
    "    sbox_output= sbox_operation(xor_output)\n",
    "    return round_function_final_permutation(sbox_output)"
   ]
  },
  {
   "cell_type": "markdown",
   "metadata": {},
   "source": [
    "### DES Algorithm"
   ]
  },
  {
   "cell_type": "code",
   "execution_count": null,
   "metadata": {},
   "outputs": [],
   "source": [
    "def DES(binary_text: str, key: str, is_decipher= False) -> str:\n",
    "    \"\"\"_summary_\n",
    "\n",
    "    Args:\n",
    "        binary_plain_text (str): _description_\n",
    "        key (str): _description_\n",
    "\n",
    "    Returns:\n",
    "        str: _description_\n",
    "    \"\"\"\n",
    "    if len(binary_text)!=64:\n",
    "        raise Exception(f'length of the binary text is not equal to 64 bit!. (length= {len(binary_text)})')\n",
    "    if len(key)!=64:\n",
    "        raise Exception(f'length of the key is not equal to 64 bit!. (length= {len(key)})')\n",
    "    subkey_list= key_scheduler(key)\n",
    "    if is_decipher:\n",
    "        subkey_list[::-1]\n",
    "    \n",
    "    # initial_permutation_output= initial_permutation(binary_text)\n",
    "    initial_permutation_output= binary_text\n",
    "    for i in range(16):\n",
    "        R=initial_permutation_output[32:]\n",
    "        L=initial_permutation_output[:32]\n",
    "        round_fucntion_output= round_fucntion(R, subkey_list[i])\n",
    "        temp=XOR(L, round_fucntion_output)\n",
    "        L=R\n",
    "        R=temp\n",
    "    # return final_permutation(L+R)\n",
    "    return L+R"
   ]
  },
  {
   "cell_type": "markdown",
   "metadata": {},
   "source": [
    "### Testing Implementated DES Algorithm"
   ]
  },
  {
   "cell_type": "code",
   "execution_count": 216,
   "metadata": {},
   "outputs": [],
   "source": [
    "key=string_to_binary(\"ENCRYPT!\")\n",
    "if len(key)!=64:\n",
    "    raise Exception(f'length of the key is not equal to 64 bit!. (length= {len(key)})')"
   ]
  },
  {
   "cell_type": "markdown",
   "metadata": {},
   "source": [
    "1- encryption"
   ]
  },
  {
   "cell_type": "code",
   "execution_count": 217,
   "metadata": {},
   "outputs": [
    {
     "name": "stdout",
     "output_type": "stream",
     "text": [
      "0000111010101101010000011001001100111010000001110110100100011011\n"
     ]
    }
   ],
   "source": [
    "binary_text = string_to_binary(\"SECURITY\")\n",
    "if len(binary_text)!=64:\n",
    "    raise Exception(f'length of the binary plain text is not equal to 64 bit!. (length= {len(binary_text)})')\n",
    "\n",
    "DES_cipher_output= DES(binary_text, key)\n",
    "print(DES_cipher_output)"
   ]
  },
  {
   "cell_type": "markdown",
   "metadata": {},
   "source": [
    "2-decryption"
   ]
  },
  {
   "cell_type": "code",
   "execution_count": 218,
   "metadata": {},
   "outputs": [
    {
     "data": {
      "text/plain": [
       "'\\x01a\\x05ÅÜfQ?'"
      ]
     },
     "execution_count": 218,
     "metadata": {},
     "output_type": "execute_result"
    }
   ],
   "source": [
    "binary_cipher_text = DES_cipher_output[32:]+DES_cipher_output[:32]\n",
    "if len(binary_cipher_text)!=64:\n",
    "    raise Exception(f'length of the binary cipher text is not equal to 64 bit!. (length= {len(binary_text)})')\n",
    "\n",
    "DES_decipher_output= DES(binary_cipher_text, key, is_decipher= True)\n",
    "binary_to_string(DES_decipher_output[32:]+DES_decipher_output[:32])"
   ]
  },
  {
   "cell_type": "markdown",
   "metadata": {},
   "source": [
    "# **Attachment: 3DES Encryption Algorithm**"
   ]
  },
  {
   "cell_type": "code",
   "execution_count": 188,
   "metadata": {},
   "outputs": [],
   "source": [
    "def three_DES(binary_plain_text: str, key: str) -> str:\n",
    "    pass"
   ]
  },
  {
   "cell_type": "markdown",
   "metadata": {},
   "source": [
    "### Testing Implementated 3DES Algorithm"
   ]
  },
  {
   "cell_type": "markdown",
   "metadata": {},
   "source": [
    "1-encryption"
   ]
  },
  {
   "cell_type": "code",
   "execution_count": null,
   "metadata": {},
   "outputs": [],
   "source": []
  },
  {
   "cell_type": "markdown",
   "metadata": {},
   "source": [
    "2-decryption"
   ]
  },
  {
   "cell_type": "code",
   "execution_count": null,
   "metadata": {},
   "outputs": [],
   "source": []
  }
 ],
 "metadata": {
  "kernelspec": {
   "display_name": "security-env",
   "language": "python",
   "name": "python3"
  },
  "language_info": {
   "codemirror_mode": {
    "name": "ipython",
    "version": 3
   },
   "file_extension": ".py",
   "mimetype": "text/x-python",
   "name": "python",
   "nbconvert_exporter": "python",
   "pygments_lexer": "ipython3",
   "version": "3.10.12"
  }
 },
 "nbformat": 4,
 "nbformat_minor": 2
}
