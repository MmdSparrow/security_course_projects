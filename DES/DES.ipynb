{
 "cells": [
  {
   "cell_type": "markdown",
   "metadata": {},
   "source": [
    "# **Security Course**\n",
    "### <span style=\"font-weight:bold;\">Instructor:</span> <span style=\"font-size:19px;\"><a href=\"https://ir.linkedin.com/in/hrshahriari\">Dr. Hamid Reza Shahriari</a></span>\n",
    "### <span style=\"font-weight:bold;\">Organization</span>\n",
    "### <span style=\"font-size:19px;\"><a href=\"https://aut.ac.ir/en\">Amirkabir University of Technology (Tehran Polytechnic)</a></span>\n",
    "<img src=\"../assets/AKUT-white-logo.png\" alt=\"Amirkabir University of Technology logo\" style=\"width:300px;\">"
   ]
  },
  {
   "cell_type": "markdown",
   "metadata": {},
   "source": [
    "# **DES Encryption Algorithm**\n",
    "In this notebook, we will walk through the steps of implementing the Data Encryption Standard (DES) algorithm."
   ]
  },
  {
   "cell_type": "markdown",
   "metadata": {},
   "source": [
    "### Imports"
   ]
  },
  {
   "cell_type": "code",
   "execution_count": 336,
   "metadata": {},
   "outputs": [],
   "source": [
    "%run ./utils.ipynb"
   ]
  },
  {
   "cell_type": "markdown",
   "metadata": {},
   "source": [
    "### Key Scheduler"
   ]
  },
  {
   "cell_type": "code",
   "execution_count": 337,
   "metadata": {},
   "outputs": [],
   "source": [
    "def key_scheduler(key: str)-> list[str]:\n",
    "    \"\"\"_summary_\n",
    "\n",
    "    Args:\n",
    "        key (str): input key\n",
    "\n",
    "    Returns:\n",
    "        list[str]: list of the subkeys for each round\n",
    "    \"\"\"\n",
    "    subkey_list = []\n",
    "    permuted_key= permuted_choice_1(key)\n",
    "\n",
    "    R = permuted_key[28:]\n",
    "    L = permuted_key[:28]\n",
    "\n",
    "    for i in range(16):\n",
    "        R=left_shit_register(R, SHIFT_TABLE[i])\n",
    "        L=left_shit_register(L, SHIFT_TABLE[i])\n",
    "\n",
    "        subkey=permuted_choice_2(L+R)\n",
    "        \n",
    "        subkey_list.append(subkey)\n",
    "\n",
    "    return subkey_list "
   ]
  },
  {
   "cell_type": "markdown",
   "metadata": {},
   "source": [
    "### Round Function"
   ]
  },
  {
   "cell_type": "code",
   "execution_count": 338,
   "metadata": {},
   "outputs": [],
   "source": [
    "def round_fucntion(R: str, subkey: str) -> str:\n",
    "    \"\"\"\n",
    "    _summary_\n",
    "\n",
    "    Args:\n",
    "        R (str): lowest 32 bits of round input\n",
    "        subkey (str): subkey that belong to this round\n",
    "\n",
    "    Returns:\n",
    "        str: round output\n",
    "    \"\"\"\n",
    "    round_function_initial_permutation_output = round_function_initial_expansion_permutation(R)\n",
    "    xor_output= XOR(round_function_initial_permutation_output, subkey)\n",
    "    sbox_output= sbox_operation(xor_output)\n",
    "    return round_function_final_permutation(sbox_output)"
   ]
  },
  {
   "cell_type": "markdown",
   "metadata": {},
   "source": [
    "### DES Algorithm"
   ]
  },
  {
   "cell_type": "code",
   "execution_count": 339,
   "metadata": {},
   "outputs": [],
   "source": [
    "def DES(binary_text: str, key: str, is_decipher= False) -> str:\n",
    "    \"\"\"_summary_\n",
    "\n",
    "    Args:\n",
    "        binary_plain_text (str): _description_\n",
    "        key (str): _description_\n",
    "\n",
    "    Returns:\n",
    "        str: _description_\n",
    "    \"\"\"\n",
    "    if len(binary_text)!=64:\n",
    "        raise Exception(f'length of the binary text is not equal to 64 bit!. (length= {len(binary_text)})')\n",
    "    if len(key)!=64:\n",
    "        raise Exception(f'length of the key is not equal to 64 bit!. (length= {len(key)})')\n",
    "    subkey_list= key_scheduler(key)\n",
    "    if is_decipher:\n",
    "        subkey_list[::-1]\n",
    "    \n",
    "    initial_permutation_output= initial_permutation(binary_text)\n",
    "    for i in range(16):\n",
    "        R=initial_permutation_output[32:]\n",
    "        L=initial_permutation_output[:32]\n",
    "        round_fucntion_output= round_fucntion(R, subkey_list[i])\n",
    "        temp=XOR(L, round_fucntion_output)\n",
    "        L=temp\n",
    "        if (i!=15):\n",
    "            L, R = R, L\n",
    "    return final_permutation(L+R)"
   ]
  },
  {
   "cell_type": "markdown",
   "metadata": {},
   "source": [
    "### Testing Implementated DES Algorithm"
   ]
  },
  {
   "cell_type": "code",
   "execution_count": 340,
   "metadata": {},
   "outputs": [],
   "source": [
    "key=string_to_binary(\"ENCRYPT!\")\n",
    "if len(key)!=64:\n",
    "    raise Exception(f'length of the key is not equal to 64 bit!. (length= {len(key)})')"
   ]
  },
  {
   "cell_type": "markdown",
   "metadata": {},
   "source": [
    "1- encryption"
   ]
  },
  {
   "cell_type": "code",
   "execution_count": 341,
   "metadata": {},
   "outputs": [
    {
     "name": "stdout",
     "output_type": "stream",
     "text": [
      "0101001101000100000001100001010000000011000010000001010000011100\n"
     ]
    }
   ],
   "source": [
    "binary_text = string_to_binary(\"SECURITY\")\n",
    "if len(binary_text)!=64:\n",
    "    raise Exception(f'length of the binary plain text is not equal to 64 bit!. (length= {len(binary_text)})')\n",
    "\n",
    "DES_cipher_output= DES(binary_text, key)\n",
    "print(DES_cipher_output)"
   ]
  },
  {
   "cell_type": "markdown",
   "metadata": {},
   "source": [
    "2-decryption"
   ]
  },
  {
   "cell_type": "code",
   "execution_count": 342,
   "metadata": {},
   "outputs": [
    {
     "data": {
      "text/plain": [
       "'SECURITY'"
      ]
     },
     "execution_count": 342,
     "metadata": {},
     "output_type": "execute_result"
    }
   ],
   "source": [
    "binary_cipher_text = DES_cipher_output[32:]+DES_cipher_output[:32]\n",
    "binary_cipher_text = DES_cipher_output\n",
    "if len(binary_cipher_text)!=64:\n",
    "    raise Exception(f'length of the binary cipher text is not equal to 64 bit!. (length= {len(binary_text)})')\n",
    "\n",
    "DES_decipher_output= DES(binary_cipher_text, key, is_decipher= True)\n",
    "binary_to_string(DES_decipher_output)"
   ]
  },
  {
   "cell_type": "markdown",
   "metadata": {},
   "source": [
    "# **Attachment: 3DES Encryption Algorithm**"
   ]
  },
  {
   "cell_type": "code",
   "execution_count": 343,
   "metadata": {},
   "outputs": [],
   "source": [
    "def three_DES(binary_text: str, key1: str, key2: str, key3: str, is_decipher=False) -> str:\n",
    "    \n",
    "    is_decipher_1=False\n",
    "    is_decipher_2=True\n",
    "    is_decipher_3=False\n",
    "    if is_decipher:\n",
    "        is_decipher_1= not is_decipher_1\n",
    "        is_decipher_2= not is_decipher_2\n",
    "        is_decipher_3= not is_decipher_3\n",
    "\n",
    "    output_1= DES(binary_text, key1, is_decipher_1)\n",
    "    output_2= DES(output_1, key2, is_decipher_2)\n",
    "    output_3= DES(output_2, key3, is_decipher_3)\n",
    "    return output_3"
   ]
  },
  {
   "cell_type": "markdown",
   "metadata": {},
   "source": [
    "### Testing Implementated 3DES Algorithm"
   ]
  },
  {
   "cell_type": "code",
   "execution_count": 344,
   "metadata": {},
   "outputs": [],
   "source": [
    "key1=string_to_binary(\"ENCRYPT1\")\n",
    "key2=string_to_binary(\"ENCRYPT2\")\n",
    "key3=string_to_binary(\"ENCRYPT3\")\n",
    "\n",
    "if len(key1)!=64:\n",
    "    raise Exception(f'length of the key1 is not equal to 64 bit!. (length= {len(key1)})')\n",
    "if len(key2)!=64:\n",
    "    raise Exception(f'length of the key2 is not equal to 64 bit!. (length= {len(key2)})')\n",
    "if len(key3)!=64:\n",
    "    raise Exception(f'length of the key3 is not equal to 64 bit!. (length= {len(key3)})')"
   ]
  },
  {
   "cell_type": "markdown",
   "metadata": {},
   "source": [
    "1-encryption"
   ]
  },
  {
   "cell_type": "code",
   "execution_count": 345,
   "metadata": {},
   "outputs": [
    {
     "name": "stdout",
     "output_type": "stream",
     "text": [
      "0101001101000100000001100001010000000011000010000001010000011100\n"
     ]
    }
   ],
   "source": [
    "binary_text = string_to_binary(\"SECURITY\")\n",
    "if len(binary_text)!=64:\n",
    "    raise Exception(f'length of the binary plain text is not equal to 64 bit!. (length= {len(binary_text)})')\n",
    "\n",
    "three_DES_cipher_output= three_DES(binary_text, key1, key2, key3)\n",
    "print(three_DES_cipher_output)"
   ]
  },
  {
   "cell_type": "markdown",
   "metadata": {},
   "source": [
    "2-decryption"
   ]
  },
  {
   "cell_type": "code",
   "execution_count": 347,
   "metadata": {},
   "outputs": [
    {
     "data": {
      "text/plain": [
       "'SECURITY'"
      ]
     },
     "execution_count": 347,
     "metadata": {},
     "output_type": "execute_result"
    }
   ],
   "source": [
    "binary_cipher_text = DES_cipher_output\n",
    "if len(binary_cipher_text)!=64:\n",
    "    raise Exception(f'length of the binary cipher text is not equal to 64 bit!. (length= {len(binary_text)})')\n",
    "\n",
    "DES_decipher_output= three_DES(binary_cipher_text, key1, key2, key3, is_decipher= True)\n",
    "binary_to_string(DES_decipher_output)"
   ]
  }
 ],
 "metadata": {
  "kernelspec": {
   "display_name": "security-env",
   "language": "python",
   "name": "python3"
  },
  "language_info": {
   "codemirror_mode": {
    "name": "ipython",
    "version": 3
   },
   "file_extension": ".py",
   "mimetype": "text/x-python",
   "name": "python",
   "nbconvert_exporter": "python",
   "pygments_lexer": "ipython3",
   "version": "3.10.12"
  }
 },
 "nbformat": 4,
 "nbformat_minor": 2
}
