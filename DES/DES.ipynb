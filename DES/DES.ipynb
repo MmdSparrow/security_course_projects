{
 "cells": [
  {
   "cell_type": "markdown",
   "metadata": {},
   "source": [
    "# **Security Course**\n",
    "### <span style=\"font-weight:bold;\">Instructor:</span> <span style=\"font-size:19px;\"><a href=\"https://ir.linkedin.com/in/hrshahriari\">Dr. Hamid Reza Shahriari</a></span>\n",
    "### <span style=\"font-weight:bold;\">Orgagnization</span>\n",
    "### <span style=\"font-size:19px;\"><a href=\"https://aut.ac.ir/en\">Amirkabir University of Technology (Tehran Polytechnic)</a></span>\n",
    "<img src=\"../assets/AKUT-logo.png\" alt=\"Amirkabir University of Technology logo\" style=\"width:300px;\">"
   ]
  },
  {
   "cell_type": "markdown",
   "metadata": {},
   "source": [
    "# **DES Encryption Algorithm**\n",
    "In this notebook, we will walk through the steps of implementing the Data Encryption Standard (DES) algorithm."
   ]
  },
  {
   "cell_type": "markdown",
   "metadata": {},
   "source": [
    "### imports"
   ]
  },
  {
   "cell_type": "code",
   "execution_count": 19,
   "metadata": {},
   "outputs": [],
   "source": [
    "%run ./utils.ipynb"
   ]
  },
  {
   "cell_type": "markdown",
   "metadata": {},
   "source": [
    "### key scheduler"
   ]
  },
  {
   "cell_type": "code",
   "execution_count": 20,
   "metadata": {},
   "outputs": [],
   "source": [
    "def key_scheduler(key: str)-> list[str]:\n",
    "    \"\"\"_summary_\n",
    "\n",
    "    Args:\n",
    "        key (str): input key\n",
    "\n",
    "    Returns:\n",
    "        list[str]: list of the subkeys for each round\n",
    "    \"\"\"\n",
    "    subkey_list = []\n",
    "\n",
    "    permuted_key= permuted_choice_1(key)\n",
    "\n",
    "    R = permuted_key[:28]\n",
    "    L = permuted_key[28:]\n",
    "\n",
    "    for i in range(16):\n",
    "        R=left_shit_register(R, SHIFT_TABLE[i])\n",
    "        L=left_shit_register(L, SHIFT_TABLE[i])\n",
    "\n",
    "        subkey=permuted_choice_2(L+R)\n",
    "        \n",
    "        subkey_list.append(subkey)\n",
    "\n",
    "    return subkey_list "
   ]
  },
  {
   "cell_type": "markdown",
   "metadata": {},
   "source": [
    "### round function"
   ]
  },
  {
   "cell_type": "code",
   "execution_count": null,
   "metadata": {},
   "outputs": [],
   "source": [
    "def round_fucntion(R: str, round_key: str) -> str:\n",
    "    \"\"\"\n",
    "    _summary_\n",
    "\n",
    "    Args:\n",
    "        R (str): lowest 32 bits of round input\n",
    "        round_key (str): subkey of the round\n",
    "\n",
    "    Returns:\n",
    "        str: round output\n",
    "    \"\"\"\n",
    "    pass"
   ]
  },
  {
   "cell_type": "markdown",
   "metadata": {},
   "source": [
    "### DES algorithm"
   ]
  },
  {
   "cell_type": "code",
   "execution_count": null,
   "metadata": {},
   "outputs": [],
   "source": [
    "def DES(plain_text: str, key: str) -> str:\n",
    "    pass"
   ]
  }
 ],
 "metadata": {
  "kernelspec": {
   "display_name": "security-env",
   "language": "python",
   "name": "python3"
  },
  "language_info": {
   "codemirror_mode": {
    "name": "ipython",
    "version": 3
   },
   "file_extension": ".py",
   "mimetype": "text/x-python",
   "name": "python",
   "nbconvert_exporter": "python",
   "pygments_lexer": "ipython3",
   "version": "3.10.12"
  }
 },
 "nbformat": 4,
 "nbformat_minor": 2
}
