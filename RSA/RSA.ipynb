{
 "cells": [
  {
   "cell_type": "markdown",
   "metadata": {},
   "source": [
    "# **Security Course**\n",
    "### <span style=\"font-weight:bold;\">Instructor:</span> <span style=\"font-size:19px;\"><a href=\"https://ir.linkedin.com/in/hrshahriari\">Dr. Hamid Reza Shahriari</a></span>\n",
    "### <span style=\"font-weight:bold;\">Organization</span>\n",
    "### <span style=\"font-size:19px;\"><a href=\"https://aut.ac.ir/en\">Amirkabir University of Technology (Tehran Polytechnic)</a></span>\n",
    "<img src=\"../assets/AKUT-white-logo.png\" alt=\"Amirkabir University of Technology logo\" style=\"width:300px;\">"
   ]
  },
  {
   "cell_type": "markdown",
   "metadata": {},
   "source": [
    "# **RSA Algorithm**\n",
    "In this notebook, we will walk through the steps of implementing the RSA algorithm."
   ]
  },
  {
   "cell_type": "markdown",
   "metadata": {},
   "source": [
    "### Imports"
   ]
  },
  {
   "cell_type": "code",
   "execution_count": 32,
   "metadata": {},
   "outputs": [],
   "source": [
    "%run ./utils.ipynb"
   ]
  },
  {
   "cell_type": "markdown",
   "metadata": {},
   "source": [
    "### Generate Key by RSA"
   ]
  },
  {
   "cell_type": "code",
   "execution_count": null,
   "metadata": {},
   "outputs": [],
   "source": [
    "def RSA(key_size=8, interactive=False):\n",
    "    p= None\n",
    "    q= None\n",
    "    if interactive:\n",
    "        p=get_prime_number_from_user(1)\n",
    "        q=get_prime_number_from_user(2)\n",
    "        print(f\"Your input prime numbers are: {p}, {q}\")\n",
    "    else:\n",
    "        p=generate_prime_number(key_size // 2)\n",
    "        q=generate_prime_number(key_size // 2)\n",
    "        while p == q:\n",
    "            q = generate_prime_number(key_size // 2)\n",
    "        print(f\"Random primes are: {p}, {q}\")\n",
    "\n",
    "    n=p*q\n",
    "    phi_n=(p-1)*(q-1)\n",
    "    print(f\"n and φ(n) in order are equal to {n}, {phi_n}\")\n",
    "\n",
    "    e=find_relative_prime(phi_n)\n",
    "    d=modular_inverse_calculator(e, phi_n)\n",
    "    print(f\"Private and public keys in order are equl to: (e, n)= {(e, n)}, (d, n)= {(d, n)}\")\n",
    "\n",
    "    return (e, n), (d, n)"
   ]
  },
  {
   "cell_type": "markdown",
   "metadata": {},
   "source": [
    "### RSA Encrypt"
   ]
  },
  {
   "cell_type": "code",
   "execution_count": 34,
   "metadata": {},
   "outputs": [],
   "source": [
    "def encrypt(public_key, plaintext):\n",
    "    e, n = public_key\n",
    "    ciphertext = [pow(ord(char), e, n) for char in plaintext]\n",
    "    return ciphertext"
   ]
  },
  {
   "cell_type": "markdown",
   "metadata": {},
   "source": [
    "### RSA Decrypt"
   ]
  },
  {
   "cell_type": "code",
   "execution_count": 35,
   "metadata": {},
   "outputs": [],
   "source": [
    "def decrypt(private_key, ciphertext):\n",
    "    d, n = private_key\n",
    "    plaintext = ''.join(chr(pow(char, d, n)) for char in ciphertext)\n",
    "    return plaintext"
   ]
  },
  {
   "cell_type": "markdown",
   "metadata": {},
   "source": [
    "### Test RSA Implementation"
   ]
  },
  {
   "cell_type": "code",
   "execution_count": 36,
   "metadata": {},
   "outputs": [
    {
     "name": "stdout",
     "output_type": "stream",
     "text": [
      "Random primes are: 211, 139\n",
      "n and φ(n) in order are equal to 29329, 28980\n",
      "Private and public keys in order are equl to: (e, n)= (4069, 29329), (d, n)= (19009, 29329)\n",
      "Public Key: (4069, 29329)\n",
      "Private Key: (19009, 29329)\n",
      "Encrypted: 16026 25024 23152 26781 23221 20501 2978 12162\n",
      "Decrypted: SECURITY\n"
     ]
    }
   ],
   "source": [
    "keysize = 16\n",
    "public_key, private_key = RSA(keysize)\n",
    "print(\"Public Key:\", public_key)\n",
    "print(\"Private Key:\", private_key)\n",
    "\n",
    "plaintext = \"SECURITY\"\n",
    "ciphertext = encrypt(public_key, plaintext)\n",
    "print(\"Encrypted:\", ' '.join(str(i) for i in ciphertext))\n",
    "\n",
    "decrypted_text = decrypt(private_key, ciphertext)\n",
    "print(\"Decrypted:\", decrypted_text)"
   ]
  }
 ],
 "metadata": {
  "kernelspec": {
   "display_name": "security-env",
   "language": "python",
   "name": "python3"
  },
  "language_info": {
   "codemirror_mode": {
    "name": "ipython",
    "version": 3
   },
   "file_extension": ".py",
   "mimetype": "text/x-python",
   "name": "python",
   "nbconvert_exporter": "python",
   "pygments_lexer": "ipython3",
   "version": "3.10.12"
  }
 },
 "nbformat": 4,
 "nbformat_minor": 2
}
