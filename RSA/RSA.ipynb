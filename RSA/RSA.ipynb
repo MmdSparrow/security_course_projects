{
 "cells": [
  {
   "cell_type": "markdown",
   "metadata": {},
   "source": [
    "# **Security Course**\n",
    "### <span style=\"font-weight:bold;\">Instructor:</span> <span style=\"font-size:19px;\"><a href=\"https://ir.linkedin.com/in/hrshahriari\">Dr. Hamid Reza Shahriari</a></span>\n",
    "### <span style=\"font-weight:bold;\">Organization</span>\n",
    "### <span style=\"font-size:19px;\"><a href=\"https://aut.ac.ir/en\">Amirkabir University of Technology (Tehran Polytechnic)</a></span>\n",
    "<img src=\"../assets/AKUT-white-logo.png\" alt=\"Amirkabir University of Technology logo\" style=\"width:300px;\">"
   ]
  },
  {
   "cell_type": "markdown",
   "metadata": {},
   "source": [
    "# **RSA Algorithm**\n",
    "In this notebook, we will walk through the steps of implementing the RSA algorithm."
   ]
  },
  {
   "cell_type": "markdown",
   "metadata": {},
   "source": [
    "### Imports"
   ]
  },
  {
   "cell_type": "code",
   "execution_count": null,
   "metadata": {},
   "outputs": [],
   "source": [
    "%run ./utils.ipynb"
   ]
  },
  {
   "cell_type": "markdown",
   "metadata": {},
   "source": [
    "### Generate Key by RSA"
   ]
  },
  {
   "cell_type": "code",
   "execution_count": null,
   "metadata": {},
   "outputs": [],
   "source": [
    "def RSA(interactive=True, key_size=8):\n",
    "    p= None\n",
    "    q= None\n",
    "    if interactive:\n",
    "        p=get_prime_number_from_user(1)\n",
    "        q=get_prime_number_from_user(2)\n",
    "        print(f\"Your input prime numbers are: {p}, {q}\")\n",
    "    else:\n",
    "        p=generate_prime_number(key_size // 2)\n",
    "        q=generate_prime_number(key_size // 2)\n",
    "        while p == q:\n",
    "            q = generate_prime_number(keysize // 2)\n",
    "        print(f\"Random primes are: {p}, {q}\")\n",
    "\n",
    "    n=p*q\n",
    "    phi_n=(p-1)*(q-1)\n",
    "    print(f\"n and φ(n) in order are equal to {n}, {phi_n}\")\n",
    "\n",
    "    e=find_relative_prime(phi_n)\n",
    "    d=modular_inverse(e, phi_n)\n",
    "    print(f\"Private and public keys in order are equl to: (e, n)= {(e, n)}, (d, n)= {(d, n)}\")\n",
    "\n",
    "    return (e, n), (d, n)"
   ]
  },
  {
   "cell_type": "markdown",
   "metadata": {},
   "source": [
    "### Test RSA Implementation"
   ]
  },
  {
   "cell_type": "code",
   "execution_count": null,
   "metadata": {},
   "outputs": [],
   "source": [
    "def encrypt(public_key, plaintext):\n",
    "    e, n = public_key\n",
    "    ciphertext = [pow(ord(char), e, n) for char in plaintext]\n",
    "    return ciphertext\n",
    "\n",
    "def decrypt(private_key, ciphertext):\n",
    "    d, n = private_key\n",
    "    plaintext = ''.join([chr(pow(char, d, n)) for char in ciphertext])\n",
    "    return plaintext\n"
   ]
  }
 ],
 "metadata": {
  "kernelspec": {
   "display_name": "security-env",
   "language": "python",
   "name": "python3"
  },
  "language_info": {
   "name": "python",
   "version": "3.10.12"
  }
 },
 "nbformat": 4,
 "nbformat_minor": 2
}
