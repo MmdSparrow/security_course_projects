{
 "cells": [
  {
   "cell_type": "markdown",
   "metadata": {},
   "source": [
    "# **Security Course**\n",
    "### <span style=\"font-weight:bold;\">Instructor:</span> <span style=\"font-size:19px;\"><a href=\"https://ir.linkedin.com/in/hrshahriari\">Dr. Hamid Reza Shahriari</a></span>\n",
    "### <span style=\"font-weight:bold;\">Organization</span>\n",
    "### <span style=\"font-size:19px;\"><a href=\"https://aut.ac.ir/en\">Amirkabir University of Technology (Tehran Polytechnic)</a></span>\n",
    "<img src=\"../assets/AKUT-white-logo.png\" alt=\"Amirkabir University of Technology logo\" style=\"width:300px;\">"
   ]
  },
  {
   "cell_type": "markdown",
   "metadata": {},
   "source": [
    "# **RSA Algorithm**\n",
    "In this notebook, we will walk through the steps of implementing the RSA algorithm."
   ]
  },
  {
   "cell_type": "code",
   "execution_count": null,
   "metadata": {
    "vscode": {
     "languageId": "plaintext"
    }
   },
   "outputs": [],
   "source": []
  }
 ],
 "metadata": {
  "language_info": {
   "name": "python"
  }
 },
 "nbformat": 4,
 "nbformat_minor": 2
}
