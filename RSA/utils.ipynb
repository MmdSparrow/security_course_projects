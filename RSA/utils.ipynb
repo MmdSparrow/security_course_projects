{
 "cells": [
  {
   "cell_type": "markdown",
   "metadata": {},
   "source": [
    "### Imports"
   ]
  },
  {
   "cell_type": "code",
   "execution_count": null,
   "metadata": {},
   "outputs": [],
   "source": [
    "import math\n",
    "import random"
   ]
  },
  {
   "cell_type": "markdown",
   "metadata": {},
   "source": [
    "### Prime Check Method"
   ]
  },
  {
   "cell_type": "code",
   "execution_count": null,
   "metadata": {},
   "outputs": [],
   "source": [
    "def is_prime(n):\n",
    "    if n <= 1:\n",
    "        return False\n",
    "    if n <= 3:\n",
    "        return True\n",
    "    if n % 2 == 0 or n % 3 == 0:\n",
    "        return False\n",
    "\n",
    "    for i in range(5, int(math.sqrt(n)) + 1, 6):\n",
    "        if n % i == 0 or n % (i + 2) == 0:\n",
    "            return False\n",
    "\n",
    "    return True"
   ]
  },
  {
   "cell_type": "markdown",
   "metadata": {},
   "source": [
    "### Get Prime Number From User"
   ]
  },
  {
   "cell_type": "code",
   "execution_count": null,
   "metadata": {},
   "outputs": [],
   "source": [
    "def get_prime_number_from_user(prime_number_index):\n",
    "    p= input(\"Enter prime number {prime_number_index}: \")\n",
    "    while(True):\n",
    "        if is_prime(q):\n",
    "            break\n",
    "    print(\"This number is not prime. Please Try again.\")\n",
    "    return p"
   ]
  },
  {
   "cell_type": "markdown",
   "metadata": {},
   "source": [
    "### GCD"
   ]
  },
  {
   "cell_type": "code",
   "execution_count": null,
   "metadata": {},
   "outputs": [],
   "source": [
    "def __gcd(numb1, numb2):\n",
    "    while numb2:\n",
    "        numb1, numb2 = numb2, numb1 % numb2\n",
    "    return numb1\n",
    "\n",
    "def find_relative_prime(numb):\n",
    "    e = random.randrange(1, numb)\n",
    "    while __gcd(e, numb) != 1:\n",
    "        e = random.randrange(1, numb)\n",
    "    return e"
   ]
  },
  {
   "cell_type": "markdown",
   "metadata": {},
   "source": [
    "### Multiplicative Inverse Calculator"
   ]
  },
  {
   "cell_type": "code",
   "execution_count": null,
   "metadata": {},
   "outputs": [],
   "source": [
    "def modular_inverse_calculator(numb, base):\n",
    "    original_m = base\n",
    "    x0, x1 = 0, 1\n",
    "    if base == 1:\n",
    "        return None\n",
    "    \n",
    "    while numb > 1:\n",
    "        q = numb // base\n",
    "        numb, base = base, numb % base\n",
    "        x0, x1 = x1 - q * x0, x0\n",
    "\n",
    "    if x1 < 0:\n",
    "        x1 += original_m\n",
    "\n",
    "    return x1"
   ]
  },
  {
   "cell_type": "markdown",
   "metadata": {},
   "source": [
    "### Additional (generate random prime)"
   ]
  },
  {
   "cell_type": "code",
   "execution_count": null,
   "metadata": {},
   "outputs": [],
   "source": [
    "def generate_prime_candidate(length):\n",
    "    return random.getrandbits(length) | (1 << (length - 1)) | 1\n",
    "\n",
    "def generate_prime_number(length=8):\n",
    "    p = 4\n",
    "    while not is_prime(p):\n",
    "        p = generate_prime_candidate(length)\n",
    "    return p"
   ]
  }
 ],
 "metadata": {
  "kernelspec": {
   "display_name": "security-env",
   "language": "python",
   "name": "python3"
  },
  "language_info": {
   "name": "python",
   "version": "3.10.12"
  }
 },
 "nbformat": 4,
 "nbformat_minor": 2
}
